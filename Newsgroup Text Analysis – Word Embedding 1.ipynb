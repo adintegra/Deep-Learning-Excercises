{
 "cells": [
  {
   "cell_type": "markdown",
   "metadata": {},
   "source": [
    "# Newsgroup Text Analysis Exercise\n",
    "\n",
    "### Classification into 6 classes using F Chollets orginal model\n",
    "\n",
    "This is a small exercise in text analysis following https://blog.keras.io/using-pre-trained-word-embeddings-in-a-keras-model.html.\n",
    "\n",
    "Installing the NLTK corpora can be a little tricky for the uninitiated. After installing the library, you must use the downloader to download one or more text corpora. The downloader is part of the library. This utility has a GUI which tends to run fine on Windows and Linux. On Mac, it is a better bet to use the command-line version by calling download_shell(), e.g.\n",
    "\n",
    "```bash\n",
    "$ python\n",
    "Python 3.7.6 (default, Jan  8 2020, 13:42:34)\n",
    "[Clang 4.0.1 (tags/RELEASE_401/final)] :: Anaconda, Inc. on darwin\n",
    "Type \"help\", \"copyright\", \"credits\" or \"license\" for more information.\n",
    ">>> import nltk\n",
    ">>> nltk.download_shell()\n",
    "```\n",
    "\n",
    "For this exercise, it probably makes sense to download the 'popular' collection of corpora ('d popular'). At the very least, you'll need the stop words ('d stopwords'). You'll also need the [GloVe pre-trained word vectors](http://nlp.stanford.edu/data/glove.6B.zip) from Stanford (careful, it's and 822MB download!).\n"
   ]
  },
  {
   "cell_type": "code",
   "execution_count": 1,
   "metadata": {},
   "outputs": [
    {
     "name": "stderr",
     "output_type": "stream",
     "text": [
      "Using TensorFlow backend.\n"
     ]
    }
   ],
   "source": [
    "import numpy as np\n",
    "import matplotlib.pyplot as plt\n",
    "import pandas as pd\n",
    "from sklearn.datasets import fetch_20newsgroups\n",
    "from tensorflow.keras.preprocessing.text import Tokenizer\n",
    "from sklearn.preprocessing import LabelEncoder\n",
    "from tensorflow.keras.preprocessing.sequence import pad_sequences\n",
    "from tensorflow.keras.models import Sequential\n",
    "from tensorflow.keras import layers\n",
    "from keras.utils.np_utils import to_categorical\n",
    "from nltk.corpus import stopwords\n",
    "from nltk.tokenize import word_tokenize\n",
    "from nltk.stem import PorterStemmer\n",
    "from nltk.tokenize import RegexpTokenizer\n",
    "import nltk\n",
    "import re"
   ]
  },
  {
   "cell_type": "code",
   "execution_count": 2,
   "metadata": {},
   "outputs": [],
   "source": [
    "# Constants\n",
    "MAX_NB_WORDS = 20000 ## most commonly occuring words in the dataset\n",
    "MAX_SEQUENCE_LENGTH = 1000\n",
    "#VALIDATION_SPLIT = 0.2\n",
    "EMBEDDING_DIM = 100"
   ]
  },
  {
   "cell_type": "code",
   "execution_count": 3,
   "metadata": {},
   "outputs": [],
   "source": [
    "# Read in some data\n",
    "categories = ['soc.religion.christian', 'comp.graphics', 'sci.med', 'comp.windows.x', 'sci.space', 'alt.atheism']\n",
    "\n",
    "#categories = ['alt.atheism',\n",
    "# 'comp.graphics',\n",
    "# 'comp.os.ms-windows.misc',\n",
    "# 'comp.sys.ibm.pc.hardware',\n",
    "# 'comp.sys.mac.hardware',\n",
    "# 'comp.windows.x',\n",
    "# 'misc.forsale',\n",
    "# 'rec.autos',\n",
    "# 'rec.motorcycles',\n",
    "# 'rec.sport.baseball',\n",
    "# 'rec.sport.hockey',\n",
    "# 'sci.crypt',\n",
    "# 'sci.electronics',\n",
    "# 'sci.med',\n",
    "# 'sci.space',\n",
    "# 'soc.religion.christian',\n",
    "# 'talk.politics.guns',\n",
    "# 'talk.politics.mideast',\n",
    "# 'talk.politics.misc',\n",
    "# 'talk.religion.misc']\n",
    "\n",
    "newsgroup_train = fetch_20newsgroups(subset='train', categories=categories, shuffle=True, remove=('headers', 'footers', 'quotes'))\n",
    "newsgroup_test = fetch_20newsgroups(subset='test', categories=categories, remove=('headers', 'footers', 'quotes'))\n"
   ]
  },
  {
   "cell_type": "code",
   "execution_count": 4,
   "metadata": {},
   "outputs": [
    {
     "name": "stdout",
     "output_type": "stream",
     "text": [
      "3443 documents\n",
      "6 categories\n",
      "\n"
     ]
    }
   ],
   "source": [
    "print(\"%d documents\" % len(newsgroup_train.filenames))\n",
    "print(\"%d categories\" % len(newsgroup_train.target_names))\n",
    "print()"
   ]
  },
  {
   "cell_type": "code",
   "execution_count": 5,
   "metadata": {},
   "outputs": [
    {
     "name": "stdout",
     "output_type": "stream",
     "text": [
      "We have recently obtained a copy of color_xterm (from export.lcs.mit.edu) after\n",
      "seeing it mentioned in a previous article. On compilation, it reports the\n",
      "following undefined symbols:\n",
      "\t_get_wmShellWidgetClass\n",
      "\t_get_applicationShellWidgetClass\n",
      "\n",
      "\tbut still runs. When sending escape sequences to set the colour,\n",
      "any colour comes out as black text on a black background. Any Ideas?\n",
      "\n",
      "Has anyone used this program in colour successfully?\n",
      "\n",
      "Can anyone point me to any other colour terminal emulators?\n",
      "\n",
      "We are running OpenWindows 3 on Sun Sparcs running SunOS 4.1.3.\n",
      "\n",
      "\t\t\t\tadvaTHANKSnce  Ben Kelley.\n"
     ]
    }
   ],
   "source": [
    "# Print an example message\n",
    "print(newsgroup_train[\"data\"][1])"
   ]
  },
  {
   "cell_type": "markdown",
   "metadata": {},
   "source": [
    "## Optional: Pre-Processing"
   ]
  },
  {
   "cell_type": "code",
   "execution_count": 17,
   "metadata": {},
   "outputs": [
    {
     "name": "stdout",
     "output_type": "stream",
     "text": [
      "{\"mightn't\", 'very', \"wouldn't\", 'below', 'out', 'then', 'after', 'all', 'this', 'over', 'y', \"shan't\", \"won't\", 'haven', 'we', \"don't\", 'just', 'him', 'her', \"you'll\", 'as', 'herself', 'between', 'which', 'shan', \"hasn't\", 'wouldn', 'll', 'for', 'won', 've', 'these', 'both', 'me', 'm', 't', 'its', 'any', 'other', \"haven't\", 'hasn', 'did', 'does', 'than', 'you', 'from', 'there', 'be', 'wasn', \"hadn't\", 'ours', 'the', 'didn', \"you'd\", 'd', \"couldn't\", 'myself', 'theirs', 'such', 'do', 'had', 'their', 'no', \"wasn't\", \"isn't\", 'about', 'up', \"mustn't\", 'not', 'an', 'with', 'to', 'while', 'before', 'shouldn', 'has', 'yours', 'ma', 'how', 'most', 'itself', 'doesn', 'needn', 's', 'they', 'should', 'again', 'same', 'where', \"weren't\", 'whom', 'against', 'those', 'aren', 'through', 'down', 'my', 'off', \"you're\", 'but', 'weren', 'himself', 'further', \"shouldn't\", \"didn't\", 'and', 'is', 'yourself', 'mightn', \"you've\", 'your', 'that', 'now', 'mustn', 'them', 'why', 'were', \"it's\", 'was', \"needn't\", 'having', 'have', 'isn', 'once', 're', 'he', 'it', 'only', 'too', 'themselves', 'yourselves', 'at', 'own', \"doesn't\", 'in', 'few', 'are', \"she's\", 'on', 'each', 'here', 'who', 'am', 'into', \"aren't\", 'or', 'couldn', 'by', 'some', 'o', 'ain', 'doing', 'our', 'his', 'being', 'nor', 'i', 'so', 'if', 'more', \"should've\", 'because', \"that'll\", 'when', 'what', 'can', 'of', 'a', 'during', 'above', 'hadn', 'hers', 'under', 'ourselves', 'until', 'she', 'don', 'will', 'been'}\n"
     ]
    }
   ],
   "source": [
    "# Set up standard stop words\n",
    "stop_words = set(stopwords.words('english')) \n",
    "print(stop_words)"
   ]
  },
  {
   "cell_type": "code",
   "execution_count": 27,
   "metadata": {},
   "outputs": [],
   "source": [
    "# Put some additional words in the list\n",
    "stop_words.update(['find','would','be','one','say','made','think','subject','see','fnal','articl','feel','given','led',\n",
    "                  'view','way','either','however','yet','know','get','use','therefore','even','like','could'])"
   ]
  },
  {
   "cell_type": "code",
   "execution_count": 18,
   "metadata": {},
   "outputs": [
    {
     "name": "stdout",
     "output_type": "stream",
     "text": [
      " recently obtained copy color xterm export lcs mit edu seeing mentioned previous article compilation reports following undefined symbols get wmshellwidgetclass get applicationshellwidgetclass still runs sending escape sequences set colour colour comes black text black background ideas anyone used program colour successfully anyone point colour terminal emulators running openwindows sun sparcs running sunos advathanksnce ben kelley\n"
     ]
    }
   ],
   "source": [
    "# Pre-processing\n",
    "\n",
    "# Get rid of stop words e.g. with nltk (and stem)\n",
    "ps = PorterStemmer()\n",
    "tokenizer = RegexpTokenizer(r'\\w+') ## Std pattern is '\\w+|\\$[\\d\\.]+|\\S+'\n",
    "\n",
    "newsgroup_trainN = []\n",
    "\n",
    "\n",
    "for message in newsgroup_train.data:\n",
    "    \n",
    "    #r'[^A-Za-z0-9#]+'\n",
    "    \n",
    "    # Sub all the special characters (except _)\n",
    "    document = re.sub(r'\\W', ' ', message)\n",
    "    document = re.sub(r'_', ' ', document)\n",
    "    # Sub all single characters\n",
    "    document = re.sub(r'\\s+[a-zA-Z]\\s+', ' ', document)\n",
    "    # Sub single characters from the start\n",
    "    document = re.sub(r'\\^[a-zA-Z]\\s+', ' ', document) \n",
    "    # Sub digits (https://stackoverflow.com/questions/39582859/python-regex-remove-numbers-and-numbers-with-punctaution?rq=1)\n",
    "    document = re.sub(r'\\b\\d+(?:\\.\\d+)?\\s+', ' ', document)\n",
    "    \n",
    "    # Substituting multiple spaces with single space\n",
    "    document = re.sub(r'\\s+', ' ', document, flags=re.I)\n",
    "    # Convert to Lowercase\n",
    "    document = document.lower()\n",
    "    document = document.strip()\n",
    "    \n",
    "    # Original code\n",
    "    text_token = tokenizer.tokenize(document)\n",
    "    messageN = ''\n",
    "    \n",
    "    for word in text_token:\n",
    "        if word not in stop_words:\n",
    "            #messageN = messageN + ' ' + ps.stem(word)\n",
    "            # w/o stemming\n",
    "            messageN = messageN + ' ' + word\n",
    "            \n",
    "    newsgroup_trainN.append(messageN)\n",
    "\n",
    "newsgroup_train.data = newsgroup_trainN\n",
    "\n",
    "# Print the same message as above, now in its processed form\n",
    "print(newsgroup_train[\"data\"][1])"
   ]
  },
  {
   "cell_type": "markdown",
   "metadata": {},
   "source": [
    "## Tokenization"
   ]
  },
  {
   "cell_type": "code",
   "execution_count": 19,
   "metadata": {},
   "outputs": [
    {
     "name": "stdout",
     "output_type": "stream",
     "text": [
      "Found 35942 unique tokens.\n",
      "[11738, 292, 330, 1073, 179, 2857, 57, 3085, 9875, 2161]\n"
     ]
    }
   ],
   "source": [
    "# Tokenize\n",
    "tokenizer = Tokenizer(num_words=MAX_NB_WORDS)\n",
    "tokenizer.fit_on_texts(newsgroup_train.data)\n",
    "\n",
    "# Get size of vocabulary \n",
    "# 1 needs to be added because of resrver 0 index\n",
    "vocab_size = len(tokenizer.word_index) + 1\n",
    "print('Found %s unique tokens.' % vocab_size)\n",
    "\n",
    "# Transforms each text in texts to a sequence of integers\n",
    "X_train = tokenizer.texts_to_sequences(newsgroup_train.data)\n",
    "X_test = tokenizer.texts_to_sequences(newsgroup_test.data)\n",
    "\n",
    "print (X_train[0][:10])"
   ]
  },
  {
   "cell_type": "code",
   "execution_count": 20,
   "metadata": {},
   "outputs": [
    {
     "name": "stdout",
     "output_type": "stream",
     "text": [
      "Shape of data tensor: (3443, 1000)\n",
      "Shape of label tensor: (3443, 6)\n",
      "[  662   704   300  1172   364  1624   364  1596   161  9879  4812  5465\n",
      "  4813   440   625    33 11745   952  6958    33  1929  2649   311    64\n",
      "    57  3747   394    59    74     2    33    14   163  1735     1 11746\n",
      "   833   220    95  1249  5842     3   222 14430  3204   403   361  6350\n",
      "  7680   214]\n"
     ]
    }
   ],
   "source": [
    "X_train = pad_sequences(X_train, padding='post', maxlen=MAX_SEQUENCE_LENGTH)\n",
    "X_test = pad_sequences(X_test, padding='post', maxlen=MAX_SEQUENCE_LENGTH)\n",
    "\n",
    "labels = to_categorical(np.asarray(newsgroup_train.target))\n",
    "print('Shape of data tensor:', X_train.shape)\n",
    "print('Shape of label tensor:', labels.shape)\n",
    "\n",
    "print (X_train[0][200:250])"
   ]
  },
  {
   "cell_type": "code",
   "execution_count": 21,
   "metadata": {},
   "outputs": [],
   "source": [
    "# We don't need the full GloVe vocabulary, only the words we really need\n",
    "# Helper function for creating the embedding matrix\n",
    "\n",
    "def create_embedding_matrix(filepath, word_index, embedding_dim):\n",
    "    embedding_matrix = np.zeros((vocab_size, embedding_dim))\n",
    "\n",
    "    with open(filepath) as f:\n",
    "        for line in f:\n",
    "            word, *vector = line.split()\n",
    "            if word in word_index:\n",
    "                idx = word_index[word] \n",
    "                embedding_matrix[idx] = np.array(\n",
    "                    vector, dtype=np.float32)[:embedding_dim]\n",
    "\n",
    "    return embedding_matrix\n"
   ]
  },
  {
   "cell_type": "code",
   "execution_count": 22,
   "metadata": {},
   "outputs": [],
   "source": [
    "# Create the embedding matrix for our vocab\n",
    "#num_words = min(MAX_NB_WORDS, vocab_size)\n",
    "embedding_matrix = create_embedding_matrix('glove.6B.100d.txt', tokenizer.word_index, EMBEDDING_DIM)"
   ]
  },
  {
   "cell_type": "code",
   "execution_count": 23,
   "metadata": {},
   "outputs": [
    {
     "data": {
      "text/plain": [
       "0.7691558622224696"
      ]
     },
     "execution_count": 23,
     "metadata": {},
     "output_type": "execute_result"
    }
   ],
   "source": [
    "# Check how many of our words are covered by the GloVe vocab\n",
    "nonzero_elements = np.count_nonzero(np.count_nonzero(embedding_matrix, axis=1))\n",
    "nonzero_elements / vocab_size"
   ]
  },
  {
   "cell_type": "code",
   "execution_count": 12,
   "metadata": {},
   "outputs": [
    {
     "name": "stdout",
     "output_type": "stream",
     "text": [
      "Model: \"sequential_1\"\n",
      "_________________________________________________________________\n",
      "Layer (type)                 Output Shape              Param #   \n",
      "=================================================================\n",
      "embedding_1 (Embedding)      (None, 1000, 100)         10537300  \n",
      "_________________________________________________________________\n",
      "conv1d_3 (Conv1D)            (None, 996, 128)          64128     \n",
      "_________________________________________________________________\n",
      "max_pooling1d_2 (MaxPooling1 (None, 199, 128)          0         \n",
      "_________________________________________________________________\n",
      "conv1d_4 (Conv1D)            (None, 195, 128)          82048     \n",
      "_________________________________________________________________\n",
      "max_pooling1d_3 (MaxPooling1 (None, 39, 128)           0         \n",
      "_________________________________________________________________\n",
      "conv1d_5 (Conv1D)            (None, 35, 128)           82048     \n",
      "_________________________________________________________________\n",
      "global_max_pooling1d_1 (Glob (None, 128)               0         \n",
      "_________________________________________________________________\n",
      "dense_2 (Dense)              (None, 128)               16512     \n",
      "_________________________________________________________________\n",
      "dense_3 (Dense)              (None, 20)                2580      \n",
      "=================================================================\n",
      "Total params: 10,784,616\n",
      "Trainable params: 247,316\n",
      "Non-trainable params: 10,537,300\n",
      "_________________________________________________________________\n"
     ]
    }
   ],
   "source": [
    "model = Sequential()\n",
    "\n",
    "model.add(layers.Embedding(input_dim=vocab_size, output_dim=EMBEDDING_DIM, \n",
    "                           weights=[embedding_matrix], \n",
    "                           input_length=MAX_SEQUENCE_LENGTH, \n",
    "                           trainable=False))\n",
    "\n",
    "## --> 74% accuracy w/ GloVe\n",
    "\n",
    "model.add(layers.Conv1D(128, 5, activation='relu'))\n",
    "model.add(layers.MaxPooling1D(5))\n",
    "model.add(layers.Conv1D(128, 5, activation='relu'))\n",
    "model.add(layers.MaxPooling1D(5))\n",
    "model.add(layers.Conv1D(128, 5, activation='relu'))\n",
    "\n",
    "model.add(layers.GlobalMaxPool1D())\n",
    "\n",
    "model.add(layers.Dense(128, activation='relu'))\n",
    "model.add(layers.Dense(6, activation='softmax'))\n",
    "\n",
    "model.compile(optimizer='adam',\n",
    "              loss='sparse_categorical_crossentropy',\n",
    "              metrics=['accuracy'])\n",
    "\n",
    "model.summary()\n"
   ]
  },
  {
   "cell_type": "code",
   "execution_count": 13,
   "metadata": {},
   "outputs": [
    {
     "name": "stdout",
     "output_type": "stream",
     "text": [
      "Train on 11314 samples, validate on 7532 samples\n",
      "Epoch 1/10\n",
      "11314/11314 [==============================] - 80s 7ms/sample - loss: 2.1313 - accuracy: 0.2758 - val_loss: 1.6949 - val_accuracy: 0.4222\n",
      "Epoch 2/10\n",
      "11314/11314 [==============================] - 79s 7ms/sample - loss: 1.3969 - accuracy: 0.5283 - val_loss: 1.4438 - val_accuracy: 0.5420\n",
      "Epoch 3/10\n",
      "11314/11314 [==============================] - 80s 7ms/sample - loss: 1.1096 - accuracy: 0.6254 - val_loss: 1.4434 - val_accuracy: 0.5607\n",
      "Epoch 4/10\n",
      "11314/11314 [==============================] - 92s 8ms/sample - loss: 0.9159 - accuracy: 0.6888 - val_loss: 1.5577 - val_accuracy: 0.5459\n",
      "Epoch 5/10\n",
      "11314/11314 [==============================] - 99s 9ms/sample - loss: 0.7509 - accuracy: 0.7405 - val_loss: 1.5952 - val_accuracy: 0.5720\n",
      "Epoch 6/10\n",
      "11314/11314 [==============================] - 94s 8ms/sample - loss: 0.6019 - accuracy: 0.7932 - val_loss: 1.7782 - val_accuracy: 0.5564\n",
      "Epoch 7/10\n",
      "11314/11314 [==============================] - 85s 7ms/sample - loss: 0.5117 - accuracy: 0.8259 - val_loss: 2.0729 - val_accuracy: 0.5501\n",
      "Epoch 8/10\n",
      "11314/11314 [==============================] - 86s 8ms/sample - loss: 0.4362 - accuracy: 0.8559 - val_loss: 2.2743 - val_accuracy: 0.5538\n",
      "Epoch 9/10\n",
      "11314/11314 [==============================] - 85s 8ms/sample - loss: 0.3706 - accuracy: 0.8748 - val_loss: 2.8073 - val_accuracy: 0.5223\n",
      "Epoch 10/10\n",
      "11314/11314 [==============================] - 86s 8ms/sample - loss: 0.3173 - accuracy: 0.8987 - val_loss: 2.5885 - val_accuracy: 0.5559\n",
      "Training Accuracy: 0.9191\n",
      "Testing Accuracy:  0.5559\n"
     ]
    }
   ],
   "source": [
    "history = model.fit(X_train, newsgroup_train.target,\n",
    "                    epochs=10,\n",
    "                    verbose=True,\n",
    "                    validation_data=(X_test, newsgroup_test.target),\n",
    "                    batch_size=10)\n",
    "loss, accuracy = model.evaluate(X_train, newsgroup_train.target, verbose=False)\n",
    "print(\"Training Accuracy: {:.4f}\".format(accuracy))\n",
    "loss, accuracy = model.evaluate(X_test, newsgroup_test.target, verbose=False)\n",
    "print(\"Testing Accuracy:  {:.4f}\".format(accuracy))"
   ]
  },
  {
   "cell_type": "code",
   "execution_count": 39,
   "metadata": {},
   "outputs": [
    {
     "data": {
      "image/png": "[encoded data removed]",
      "text/plain": [
       "<Figure size 432x288 with 1 Axes>"
      ]
     },
     "metadata": {
      "needs_background": "light"
     },
     "output_type": "display_data"
    },
    {
     "data": {
      "image/png": "[encoded data removed]",
      "text/plain": [
       "<Figure size 432x288 with 1 Axes>"
      ]
     },
     "metadata": {
      "needs_background": "light"
     },
     "output_type": "display_data"
    }
   ],
   "source": [
    "# Plot training & validation accuracy values\n",
    "plt.plot(history.history['accuracy'])\n",
    "plt.plot(history.history['val_accuracy'])\n",
    "plt.title('Model accuracy')\n",
    "plt.ylabel('Accuracy')\n",
    "plt.xlabel('Epoch')\n",
    "plt.legend(['Train', 'Test'], loc='upper left')\n",
    "plt.show()\n",
    "\n",
    "# Plot training & validation loss values\n",
    "plt.plot(history.history['loss'])\n",
    "plt.plot(history.history['val_loss'])\n",
    "plt.title('Model loss')\n",
    "plt.ylabel('Loss')\n",
    "plt.xlabel('Epoch')\n",
    "plt.legend(['Train', 'Test'], loc='upper left')\n",
    "plt.show()"
   ]
  },
  {
   "cell_type": "markdown",
   "metadata": {},
   "source": [
    "### Same model but w/o GloVe\n"
   ]
  },
  {
   "cell_type": "code",
   "execution_count": 40,
   "metadata": {},
   "outputs": [
    {
     "name": "stdout",
     "output_type": "stream",
     "text": [
      "Model: \"sequential_4\"\n",
      "_________________________________________________________________\n",
      "Layer (type)                 Output Shape              Param #   \n",
      "=================================================================\n",
      "embedding_3 (Embedding)      (None, 1000, 100)         4004900   \n",
      "_________________________________________________________________\n",
      "conv1d_9 (Conv1D)            (None, 996, 128)          64128     \n",
      "_________________________________________________________________\n",
      "max_pooling1d_6 (MaxPooling1 (None, 199, 128)          0         \n",
      "_________________________________________________________________\n",
      "conv1d_10 (Conv1D)           (None, 195, 128)          82048     \n",
      "_________________________________________________________________\n",
      "max_pooling1d_7 (MaxPooling1 (None, 39, 128)           0         \n",
      "_________________________________________________________________\n",
      "conv1d_11 (Conv1D)           (None, 35, 128)           82048     \n",
      "_________________________________________________________________\n",
      "global_max_pooling1d_3 (Glob (None, 128)               0         \n",
      "_________________________________________________________________\n",
      "dense_6 (Dense)              (None, 128)               16512     \n",
      "_________________________________________________________________\n",
      "dense_7 (Dense)              (None, 6)                 774       \n",
      "=================================================================\n",
      "Total params: 4,250,410\n",
      "Trainable params: 4,250,410\n",
      "Non-trainable params: 0\n",
      "_________________________________________________________________\n"
     ]
    }
   ],
   "source": [
    "model = Sequential()\n",
    "\n",
    "model.add(layers.Embedding(input_dim=vocab_size, output_dim=EMBEDDING_DIM, \n",
    "                           input_length=MAX_SEQUENCE_LENGTH))\n",
    "\n",
    "## --> 70% accuracy w/o GloVe\n",
    "\n",
    "\n",
    "model.add(layers.Conv1D(128, 5, activation='relu'))\n",
    "model.add(layers.MaxPooling1D(5))\n",
    "model.add(layers.Conv1D(128, 5, activation='relu'))\n",
    "model.add(layers.MaxPooling1D(5))\n",
    "model.add(layers.Conv1D(128, 5, activation='relu'))\n",
    "\n",
    "model.add(layers.GlobalMaxPool1D())\n",
    "\n",
    "model.add(layers.Dense(128, activation='relu'))\n",
    "model.add(layers.Dense(6, activation='softmax'))\n",
    "\n",
    "model.compile(optimizer='adam',\n",
    "              loss='sparse_categorical_crossentropy',\n",
    "              metrics=['accuracy'])\n",
    "\n",
    "model.summary()\n"
   ]
  },
  {
   "cell_type": "code",
   "execution_count": 41,
   "metadata": {},
   "outputs": [
    {
     "name": "stdout",
     "output_type": "stream",
     "text": [
      "Train on 3443 samples, validate on 2291 samples\n",
      "Epoch 1/10\n",
      "3443/3443 [==============================] - 47s 14ms/sample - loss: 1.5025 - accuracy: 0.3218 - val_loss: 1.2391 - val_accuracy: 0.4391\n",
      "Epoch 2/10\n",
      "3443/3443 [==============================] - 46s 13ms/sample - loss: 0.9339 - accuracy: 0.5937 - val_loss: 1.0534 - val_accuracy: 0.5740\n",
      "Epoch 3/10\n",
      "3443/3443 [==============================] - 46s 13ms/sample - loss: 0.5565 - accuracy: 0.7766 - val_loss: 1.1207 - val_accuracy: 0.6264\n",
      "Epoch 4/10\n",
      "3443/3443 [==============================] - 46s 13ms/sample - loss: 0.3427 - accuracy: 0.8687 - val_loss: 1.2797 - val_accuracy: 0.6552\n",
      "Epoch 5/10\n",
      "3443/3443 [==============================] - 47s 14ms/sample - loss: 0.1945 - accuracy: 0.9306 - val_loss: 1.3693 - val_accuracy: 0.6792\n",
      "Epoch 6/10\n",
      "3443/3443 [==============================] - 47s 14ms/sample - loss: 0.0923 - accuracy: 0.9646 - val_loss: 1.7220 - val_accuracy: 0.6779\n",
      "Epoch 7/10\n",
      "3443/3443 [==============================] - 47s 14ms/sample - loss: 0.0819 - accuracy: 0.9689 - val_loss: 1.7647 - val_accuracy: 0.6940\n",
      "Epoch 8/10\n",
      "3443/3443 [==============================] - 47s 14ms/sample - loss: 0.0937 - accuracy: 0.9646 - val_loss: 1.6371 - val_accuracy: 0.7080\n",
      "Epoch 9/10\n",
      "3443/3443 [==============================] - 47s 14ms/sample - loss: 0.0929 - accuracy: 0.9663 - val_loss: 1.5760 - val_accuracy: 0.7014\n",
      "Epoch 10/10\n",
      "3443/3443 [==============================] - 46s 13ms/sample - loss: 0.0821 - accuracy: 0.9689 - val_loss: 1.6950 - val_accuracy: 0.7041\n",
      "Training Accuracy: 0.9791\n",
      "Testing Accuracy:  0.7041\n"
     ]
    }
   ],
   "source": [
    "history = model.fit(X_train, newsgroup_train.target,\n",
    "                    epochs=10,\n",
    "                    verbose=True,\n",
    "                    validation_data=(X_test, newsgroup_test.target),\n",
    "                    batch_size=10)\n",
    "loss, accuracy = model.evaluate(X_train, newsgroup_train.target, verbose=False)\n",
    "print(\"Training Accuracy: {:.4f}\".format(accuracy))\n",
    "loss, accuracy = model.evaluate(X_test, newsgroup_test.target, verbose=False)\n",
    "print(\"Testing Accuracy:  {:.4f}\".format(accuracy))\n"
   ]
  },
  {
   "cell_type": "code",
   "execution_count": 42,
   "metadata": {},
   "outputs": [
    {
     "data": {
      "image/png": "[encoded data removed]",
      "text/plain": [
       "<Figure size 432x288 with 1 Axes>"
      ]
     },
     "metadata": {
      "needs_background": "light"
     },
     "output_type": "display_data"
    },
    {
     "data": {
      "image/png": "[encoded data removed]",
      "text/plain": [
       "<Figure size 432x288 with 1 Axes>"
      ]
     },
     "metadata": {
      "needs_background": "light"
     },
     "output_type": "display_data"
    }
   ],
   "source": [
    "# Plot training & validation accuracy values\n",
    "plt.plot(history.history['accuracy'])\n",
    "plt.plot(history.history['val_accuracy'])\n",
    "plt.title('Model accuracy')\n",
    "plt.ylabel('Accuracy')\n",
    "plt.xlabel('Epoch')\n",
    "plt.legend(['Train', 'Test'], loc='upper left')\n",
    "plt.show()\n",
    "\n",
    "# Plot training & validation loss values\n",
    "plt.plot(history.history['loss'])\n",
    "plt.plot(history.history['val_loss'])\n",
    "plt.title('Model loss')\n",
    "plt.ylabel('Loss')\n",
    "plt.xlabel('Epoch')\n",
    "plt.legend(['Train', 'Test'], loc='upper left')\n",
    "plt.show()"
   ]
  },
  {
   "cell_type": "markdown",
   "metadata": {},
   "source": [
    "## Back to Michaels best model"
   ]
  },
  {
   "cell_type": "code",
   "execution_count": 24,
   "metadata": {},
   "outputs": [
    {
     "name": "stdout",
     "output_type": "stream",
     "text": [
      "Model: \"sequential_2\"\n",
      "_________________________________________________________________\n",
      "Layer (type)                 Output Shape              Param #   \n",
      "=================================================================\n",
      "embedding_2 (Embedding)      (None, 1000, 100)         3594200   \n",
      "_________________________________________________________________\n",
      "global_max_pooling1d_2 (Glob (None, 100)               0         \n",
      "_________________________________________________________________\n",
      "dense_4 (Dense)              (None, 10)                1010      \n",
      "_________________________________________________________________\n",
      "dropout_2 (Dropout)          (None, 10)                0         \n",
      "_________________________________________________________________\n",
      "dense_5 (Dense)              (None, 6)                 66        \n",
      "=================================================================\n",
      "Total params: 3,595,276\n",
      "Trainable params: 1,076\n",
      "Non-trainable params: 3,594,200\n",
      "_________________________________________________________________\n"
     ]
    }
   ],
   "source": [
    "# dropout\n",
    "\n",
    "# another way to work with embeddings is by using a MaxPooling1D/AveragePooling1D\n",
    "# or a GlobalMaxPooling1D/GlobalAveragePooling1D layer after the embedding.\n",
    "# You can think of the pooling layers as a way to downsample (a way to reduce the size of)\n",
    "# the incoming feature vectors\n",
    "\n",
    "#embedding_dim = 50\n",
    "\n",
    "model = Sequential()\n",
    "model.add(layers.Embedding(input_dim=vocab_size, output_dim=EMBEDDING_DIM, \n",
    "                           weights=[embedding_matrix], \n",
    "                           input_length=MAX_SEQUENCE_LENGTH, \n",
    "                           trainable=False))\n",
    "\n",
    "model.add(layers.GlobalMaxPool1D())\n",
    "model.add(layers.Dense(10, activation='relu'))\n",
    "model.add(layers.Dropout(0.3))\n",
    "model.add(layers.Dense(6, activation='softmax'))\n",
    "model.compile(optimizer='adam',\n",
    "              loss='sparse_categorical_crossentropy',\n",
    "              metrics=['accuracy'])\n",
    "model.summary()"
   ]
  },
  {
   "cell_type": "code",
   "execution_count": 25,
   "metadata": {},
   "outputs": [
    {
     "name": "stdout",
     "output_type": "stream",
     "text": [
      "Train on 3443 samples, validate on 2291 samples\n",
      "Epoch 1/50\n",
      "3443/3443 [==============================] - 2s 579us/sample - loss: 1.7679 - accuracy: 0.2001 - val_loss: 1.7209 - val_accuracy: 0.2807\n",
      "Epoch 2/50\n",
      "3443/3443 [==============================] - 2s 437us/sample - loss: 1.6950 - accuracy: 0.2881 - val_loss: 1.6429 - val_accuracy: 0.3470\n",
      "Epoch 3/50\n",
      "3443/3443 [==============================] - 2s 438us/sample - loss: 1.6152 - accuracy: 0.3294 - val_loss: 1.5616 - val_accuracy: 0.3715\n",
      "Epoch 4/50\n",
      "3443/3443 [==============================] - 2s 437us/sample - loss: 1.5487 - accuracy: 0.3477 - val_loss: 1.4980 - val_accuracy: 0.4116\n",
      "Epoch 5/50\n",
      "3443/3443 [==============================] - 2s 437us/sample - loss: 1.4938 - accuracy: 0.3674 - val_loss: 1.4405 - val_accuracy: 0.4208\n",
      "Epoch 6/50\n",
      "3443/3443 [==============================] - 2s 437us/sample - loss: 1.4133 - accuracy: 0.4069 - val_loss: 1.3547 - val_accuracy: 0.4579\n",
      "Epoch 7/50\n",
      "3443/3443 [==============================] - 2s 438us/sample - loss: 1.3908 - accuracy: 0.4014 - val_loss: 1.3012 - val_accuracy: 0.4684\n",
      "Epoch 8/50\n",
      "3443/3443 [==============================] - 2s 437us/sample - loss: 1.3413 - accuracy: 0.4272 - val_loss: 1.2774 - val_accuracy: 0.4806\n",
      "Epoch 9/50\n",
      "3443/3443 [==============================] - 2s 438us/sample - loss: 1.3137 - accuracy: 0.4246 - val_loss: 1.2563 - val_accuracy: 0.4871\n",
      "Epoch 10/50\n",
      "3443/3443 [==============================] - 2s 436us/sample - loss: 1.3006 - accuracy: 0.4453 - val_loss: 1.2203 - val_accuracy: 0.4841\n",
      "Epoch 11/50\n",
      "3443/3443 [==============================] - 2s 438us/sample - loss: 1.2827 - accuracy: 0.4522 - val_loss: 1.2175 - val_accuracy: 0.4950\n",
      "Epoch 12/50\n",
      "3443/3443 [==============================] - 2s 436us/sample - loss: 1.2844 - accuracy: 0.4389 - val_loss: 1.2066 - val_accuracy: 0.4980\n",
      "Epoch 13/50\n",
      "3443/3443 [==============================] - 2s 443us/sample - loss: 1.2479 - accuracy: 0.4548 - val_loss: 1.2008 - val_accuracy: 0.5098\n",
      "Epoch 14/50\n",
      "3443/3443 [==============================] - 2s 437us/sample - loss: 1.2389 - accuracy: 0.4589 - val_loss: 1.1773 - val_accuracy: 0.5229\n",
      "Epoch 15/50\n",
      "3443/3443 [==============================] - 2s 436us/sample - loss: 1.2430 - accuracy: 0.4554 - val_loss: 1.1509 - val_accuracy: 0.5255\n",
      "Epoch 16/50\n",
      "3443/3443 [==============================] - 2s 437us/sample - loss: 1.2399 - accuracy: 0.4598 - val_loss: 1.1420 - val_accuracy: 0.5260\n",
      "Epoch 17/50\n",
      "3443/3443 [==============================] - 2s 437us/sample - loss: 1.2166 - accuracy: 0.4755 - val_loss: 1.1191 - val_accuracy: 0.5277\n",
      "Epoch 18/50\n",
      "3443/3443 [==============================] - 2s 437us/sample - loss: 1.2226 - accuracy: 0.4592 - val_loss: 1.1297 - val_accuracy: 0.5369\n",
      "Epoch 19/50\n",
      "3443/3443 [==============================] - 2s 450us/sample - loss: 1.2100 - accuracy: 0.4740 - val_loss: 1.1124 - val_accuracy: 0.5456\n",
      "Epoch 20/50\n",
      "3443/3443 [==============================] - 2s 437us/sample - loss: 1.1962 - accuracy: 0.4755 - val_loss: 1.1010 - val_accuracy: 0.5386\n",
      "Epoch 21/50\n",
      "3443/3443 [==============================] - 2s 438us/sample - loss: 1.2040 - accuracy: 0.4766 - val_loss: 1.0911 - val_accuracy: 0.5565\n",
      "Epoch 22/50\n",
      "3443/3443 [==============================] - 2s 439us/sample - loss: 1.1950 - accuracy: 0.4726 - val_loss: 1.0971 - val_accuracy: 0.5552\n",
      "Epoch 23/50\n",
      "3443/3443 [==============================] - 2s 437us/sample - loss: 1.1822 - accuracy: 0.4839 - val_loss: 1.0784 - val_accuracy: 0.5648\n",
      "Epoch 24/50\n",
      "3443/3443 [==============================] - 2s 437us/sample - loss: 1.1683 - accuracy: 0.4839 - val_loss: 1.0611 - val_accuracy: 0.5434\n",
      "Epoch 25/50\n",
      "3443/3443 [==============================] - 2s 437us/sample - loss: 1.1660 - accuracy: 0.4993 - val_loss: 1.0653 - val_accuracy: 0.5535\n",
      "Epoch 26/50\n",
      "3443/3443 [==============================] - 2s 438us/sample - loss: 1.1623 - accuracy: 0.5048 - val_loss: 1.0449 - val_accuracy: 0.5596\n",
      "Epoch 27/50\n",
      "3443/3443 [==============================] - 2s 438us/sample - loss: 1.1411 - accuracy: 0.5135 - val_loss: 1.0315 - val_accuracy: 0.5635\n",
      "Epoch 28/50\n",
      "3443/3443 [==============================] - 2s 438us/sample - loss: 1.1314 - accuracy: 0.5144 - val_loss: 1.0254 - val_accuracy: 0.5644\n",
      "Epoch 29/50\n",
      "3443/3443 [==============================] - 2s 438us/sample - loss: 1.1354 - accuracy: 0.5103 - val_loss: 1.0255 - val_accuracy: 0.5648\n",
      "Epoch 30/50\n",
      "3443/3443 [==============================] - 2s 437us/sample - loss: 1.1165 - accuracy: 0.5170 - val_loss: 1.0317 - val_accuracy: 0.5639\n",
      "Epoch 31/50\n",
      "3443/3443 [==============================] - 2s 436us/sample - loss: 1.1260 - accuracy: 0.5147 - val_loss: 1.0255 - val_accuracy: 0.5683\n",
      "Epoch 32/50\n",
      "3443/3443 [==============================] - 2s 437us/sample - loss: 1.1211 - accuracy: 0.5274 - val_loss: 1.0194 - val_accuracy: 0.5840\n",
      "Epoch 33/50\n",
      "3443/3443 [==============================] - 2s 442us/sample - loss: 1.1199 - accuracy: 0.5182 - val_loss: 1.0084 - val_accuracy: 0.5827\n",
      "Epoch 34/50\n",
      "3443/3443 [==============================] - 2s 437us/sample - loss: 1.1063 - accuracy: 0.5228 - val_loss: 1.0102 - val_accuracy: 0.5757\n",
      "Epoch 35/50\n",
      "3443/3443 [==============================] - 2s 438us/sample - loss: 1.1008 - accuracy: 0.5199 - val_loss: 1.0015 - val_accuracy: 0.5757\n",
      "Epoch 36/50\n",
      "3443/3443 [==============================] - 2s 436us/sample - loss: 1.1231 - accuracy: 0.5225 - val_loss: 1.0071 - val_accuracy: 0.5757\n",
      "Epoch 37/50\n",
      "3443/3443 [==============================] - 2s 436us/sample - loss: 1.1119 - accuracy: 0.5179 - val_loss: 0.9989 - val_accuracy: 0.5674\n",
      "Epoch 38/50\n",
      "3443/3443 [==============================] - 1s 435us/sample - loss: 1.1095 - accuracy: 0.5176 - val_loss: 1.0009 - val_accuracy: 0.5696\n",
      "Epoch 39/50\n",
      "3443/3443 [==============================] - 2s 446us/sample - loss: 1.1080 - accuracy: 0.5176 - val_loss: 1.0102 - val_accuracy: 0.5605\n",
      "Epoch 40/50\n",
      "3443/3443 [==============================] - 2s 436us/sample - loss: 1.1093 - accuracy: 0.5164 - val_loss: 1.0169 - val_accuracy: 0.5687\n",
      "Epoch 41/50\n",
      "3443/3443 [==============================] - 2s 437us/sample - loss: 1.1010 - accuracy: 0.5243 - val_loss: 0.9980 - val_accuracy: 0.5661\n",
      "Epoch 42/50\n",
      "3443/3443 [==============================] - 2s 437us/sample - loss: 1.0927 - accuracy: 0.5202 - val_loss: 0.9948 - val_accuracy: 0.5661\n",
      "Epoch 43/50\n",
      "3443/3443 [==============================] - 2s 437us/sample - loss: 1.0767 - accuracy: 0.5266 - val_loss: 0.9990 - val_accuracy: 0.5858\n",
      "Epoch 44/50\n",
      "3443/3443 [==============================] - 2s 436us/sample - loss: 1.0987 - accuracy: 0.5231 - val_loss: 0.9952 - val_accuracy: 0.5696\n",
      "Epoch 45/50\n",
      "3443/3443 [==============================] - 2s 437us/sample - loss: 1.0964 - accuracy: 0.5237 - val_loss: 0.9846 - val_accuracy: 0.5735\n",
      "Epoch 46/50\n",
      "3443/3443 [==============================] - 2s 437us/sample - loss: 1.0892 - accuracy: 0.5245 - val_loss: 0.9939 - val_accuracy: 0.5543\n",
      "Epoch 47/50\n",
      "3443/3443 [==============================] - 2s 439us/sample - loss: 1.0888 - accuracy: 0.5228 - val_loss: 0.9904 - val_accuracy: 0.5635\n",
      "Epoch 48/50\n",
      "3443/3443 [==============================] - 2s 437us/sample - loss: 1.0744 - accuracy: 0.5274 - val_loss: 1.0043 - val_accuracy: 0.5583\n",
      "Epoch 49/50\n",
      "3443/3443 [==============================] - 2s 439us/sample - loss: 1.0779 - accuracy: 0.5222 - val_loss: 0.9926 - val_accuracy: 0.5635\n",
      "Epoch 50/50\n",
      "3443/3443 [==============================] - 2s 439us/sample - loss: 1.0718 - accuracy: 0.5237 - val_loss: 0.9809 - val_accuracy: 0.5753\n",
      "Training Accuracy: 0.6358\n",
      "Testing Accuracy:  0.5753\n"
     ]
    }
   ],
   "source": [
    "history = model.fit(X_train, newsgroup_train.target,\n",
    "                    epochs=50,\n",
    "                    verbose=True,\n",
    "                    validation_data=(X_test, newsgroup_test.target),\n",
    "                    batch_size=10)\n",
    "loss, accuracy = model.evaluate(X_train, newsgroup_train.target, verbose=False)\n",
    "print(\"Training Accuracy: {:.4f}\".format(accuracy))\n",
    "loss, accuracy = model.evaluate(X_test, newsgroup_test.target, verbose=False)\n",
    "print(\"Testing Accuracy:  {:.4f}\".format(accuracy))"
   ]
  },
  {
   "cell_type": "code",
   "execution_count": 26,
   "metadata": {},
   "outputs": [
    {
     "data": {
      "image/png": "[encoded data removed]",
      "text/plain": [
       "<Figure size 432x288 with 1 Axes>"
      ]
     },
     "metadata": {
      "needs_background": "light"
     },
     "output_type": "display_data"
    },
    {
     "data": {
      "image/png": "[encoded data removed]",
      "text/plain": [
       "<Figure size 432x288 with 1 Axes>"
      ]
     },
     "metadata": {
      "needs_background": "light"
     },
     "output_type": "display_data"
    }
   ],
   "source": [
    "# Plot training & validation accuracy values\n",
    "plt.plot(history.history['accuracy'])\n",
    "plt.plot(history.history['val_accuracy'])\n",
    "plt.title('Model accuracy')\n",
    "plt.ylabel('Accuracy')\n",
    "plt.xlabel('Epoch')\n",
    "plt.legend(['Train', 'Test'], loc='upper left')\n",
    "plt.show()\n",
    "\n",
    "# Plot training & validation loss values\n",
    "plt.plot(history.history['loss'])\n",
    "plt.plot(history.history['val_loss'])\n",
    "plt.title('Model loss')\n",
    "plt.ylabel('Loss')\n",
    "plt.xlabel('Epoch')\n",
    "plt.legend(['Train', 'Test'], loc='upper left')\n",
    "plt.show()"
   ]
  },
  {
   "cell_type": "code",
   "execution_count": null,
   "metadata": {},
   "outputs": [],
   "source": []
  }
 ],
 "metadata": {
  "kernelspec": {
   "display_name": "Python 3",
   "language": "python",
   "name": "python3"
  },
  "language_info": {
   "codemirror_mode": {
    "name": "ipython",
    "version": 3
   },
   "file_extension": ".py",
   "mimetype": "text/x-python",
   "name": "python",
   "nbconvert_exporter": "python",
   "pygments_lexer": "ipython3",
   "version": "3.7.6"
  }
 },
 "nbformat": 4,
 "nbformat_minor": 4
}
