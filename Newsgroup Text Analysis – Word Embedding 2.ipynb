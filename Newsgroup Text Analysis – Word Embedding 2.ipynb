{
 "cells": [
  {
   "cell_type": "markdown",
   "metadata": {},
   "source": [
    "# Newsgroup Text Analysis\n",
    "\n",
    "This is a small exercise in text analysis using the NLTK library.\n",
    "\n",
    "Installing the NLTK corpora can be a little tricky for the uninitiated. After installing the library, you must use the downloader to download one or more text corpora. The downloader is part of the library. This utility has a GUI which tends to run fine on Windows and Linux. On Mac, it is a better bet to use the command-line version by calling download_shell(), e.g.\n",
    "\n",
    "```bash\n",
    "$ python\n",
    "Python 3.7.6 (default, Jan  8 2020, 13:42:34)\n",
    "[Clang 4.0.1 (tags/RELEASE_401/final)] :: Anaconda, Inc. on darwin\n",
    "Type \"help\", \"copyright\", \"credits\" or \"license\" for more information.\n",
    ">>> import nltk\n",
    ">>> nltk.download_shell()\n",
    "```\n",
    "\n",
    "For this exercise, it probably makes sense to download the 'popular' collection of corpora ('d popular'). At the very least, you'll need the stop words ('d stopwords'). You'll also need the [GloVe pre-trained word vectors](http://nlp.stanford.edu/data/glove.6B.zip) from Stanford (careful, it's and 822MB download!).\n",
    "\n",
    "References:\n",
    "* See [this link](https://github.com/tensorchiefs/dl_course_2018/blob/master/notebooks/13_sentiment_analysis_with_imdb_reviews_solution.ipynb) from a previous DL lecture\n",
    "* Also https://realpython.com/python-keras-text-classification/\n",
    "* ZHAW ML Lab [5_NaiveBayes_Newsgroup.py](https://moodle2.zhaw.ch/mod/folder/view.php?id=1382473)\n",
    "* A good introductory post on CNNs and text classification can be found here: http://www.wildml.com/2015/11/understanding-convolutional-neural-networks-for-nlp/\n"
   ]
  },
  {
   "cell_type": "code",
   "execution_count": 1,
   "metadata": {},
   "outputs": [
    {
     "name": "stderr",
     "output_type": "stream",
     "text": [
      "Using TensorFlow backend.\n"
     ]
    }
   ],
   "source": [
    "import numpy as np\n",
    "import matplotlib.pyplot as plt\n",
    "import pandas as pd\n",
    "from sklearn.datasets import fetch_20newsgroups\n",
    "from tensorflow.keras.preprocessing.text import Tokenizer\n",
    "from sklearn.preprocessing import LabelEncoder\n",
    "from tensorflow.keras.preprocessing.sequence import pad_sequences\n",
    "from tensorflow.keras.models import Sequential\n",
    "from tensorflow.keras import layers\n",
    "from keras.utils.np_utils import to_categorical\n",
    "from nltk.corpus import stopwords\n",
    "from nltk.tokenize import word_tokenize\n",
    "from nltk.stem import PorterStemmer\n",
    "from nltk.tokenize import RegexpTokenizer\n",
    "import nltk\n",
    "import re"
   ]
  },
  {
   "cell_type": "code",
   "execution_count": 2,
   "metadata": {},
   "outputs": [],
   "source": [
    "# Read in some data\n",
    "categories = ['soc.religion.christian', 'comp.graphics', 'sci.med', 'comp.windows.x', 'sci.space', 'alt.atheism']\n",
    "\n",
    "newsgroup_train = fetch_20newsgroups(subset='train', categories=categories, shuffle=True, remove=('headers', 'footers', 'quotes'))\n",
    "newsgroup_test = fetch_20newsgroups(subset='test', categories=categories, remove=('headers', 'footers', 'quotes'))\n"
   ]
  },
  {
   "cell_type": "code",
   "execution_count": 3,
   "metadata": {},
   "outputs": [
    {
     "name": "stdout",
     "output_type": "stream",
     "text": [
      "3443 documents\n",
      "6 categories\n",
      "\n"
     ]
    }
   ],
   "source": [
    "print(\"%d documents\" % len(newsgroup_train.filenames))\n",
    "print(\"%d categories\" % len(newsgroup_train.target_names))\n",
    "print()"
   ]
  },
  {
   "cell_type": "code",
   "execution_count": 4,
   "metadata": {},
   "outputs": [
    {
     "name": "stdout",
     "output_type": "stream",
     "text": [
      "We have recently obtained a copy of color_xterm (from export.lcs.mit.edu) after\n",
      "seeing it mentioned in a previous article. On compilation, it reports the\n",
      "following undefined symbols:\n",
      "\t_get_wmShellWidgetClass\n",
      "\t_get_applicationShellWidgetClass\n",
      "\n",
      "\tbut still runs. When sending escape sequences to set the colour,\n",
      "any colour comes out as black text on a black background. Any Ideas?\n",
      "\n",
      "Has anyone used this program in colour successfully?\n",
      "\n",
      "Can anyone point me to any other colour terminal emulators?\n",
      "\n",
      "We are running OpenWindows 3 on Sun Sparcs running SunOS 4.1.3.\n",
      "\n",
      "\t\t\t\tadvaTHANKSnce  Ben Kelley.\n"
     ]
    }
   ],
   "source": [
    "# Print an example message\n",
    "print(newsgroup_train[\"data\"][1])"
   ]
  },
  {
   "cell_type": "code",
   "execution_count": 5,
   "metadata": {},
   "outputs": [
    {
     "name": "stdout",
     "output_type": "stream",
     "text": [
      "{'myself', 'theirs', 'because', 'they', 'herself', 'him', 'who', 'hasn', 'for', 'most', 'himself', 'through', 'into', 'here', 'more', \"you're\", \"doesn't\", \"you'd\", 'a', 'or', 'y', 'which', 'm', 'i', 'when', 'are', 'having', 'mightn', 'does', 'can', 'so', 'to', \"needn't\", 'didn', \"you'll\", 'being', 'yours', 'its', \"it's\", 'should', 'did', 'doing', 'my', 'while', 'don', 's', 'few', 'nor', 'over', 'there', 'own', \"didn't\", 'themselves', 'on', 'he', 'both', 'how', 'in', 'an', 'her', \"wasn't\", \"won't\", 'aren', 'whom', 'just', 'their', 'by', 'will', \"that'll\", 'am', 'weren', 'what', 'other', 'with', 'your', 'then', 'doesn', 'itself', 'same', \"mightn't\", 'too', 'be', \"isn't\", 'we', \"wouldn't\", 'above', 'is', 'as', 'from', 'it', 'his', 'down', 'no', 'if', \"hadn't\", \"shouldn't\", 'why', 'at', \"mustn't\", 'shouldn', 've', \"shan't\", 'ain', \"you've\", 'our', 'wouldn', 'has', 'each', 'below', 'until', \"couldn't\", 'wasn', 'needn', \"hasn't\", 'these', 'those', \"don't\", 'ma', 'once', 'll', 'where', 'any', 'this', \"should've\", 'some', 'isn', 'won', 'couldn', 'me', 'before', 'was', 'hadn', 'ourselves', 'that', 'only', 'she', 'mustn', 'd', 'than', 'after', 'not', 'up', 'you', 'ours', 'were', 'during', 'have', \"she's\", 'about', 'haven', \"haven't\", 'but', 'out', 'under', 'against', 'them', 'very', 'off', 'now', \"weren't\", 't', 'o', 'shan', 'between', 'such', \"aren't\", 'been', 'yourselves', 'the', 'had', 'again', 're', 'yourself', 'and', 'all', 'do', 'hers', 'of', 'further'}\n"
     ]
    }
   ],
   "source": [
    "# Set up standard stop words\n",
    "stop_words = set(stopwords.words('english')) \n",
    "print(stop_words)"
   ]
  },
  {
   "cell_type": "code",
   "execution_count": 6,
   "metadata": {},
   "outputs": [],
   "source": [
    "# Put some additional words in the list\n",
    "stop_words.update(['find','would','be','one','say','made','think','subject','see','fnal','articl','feel','given','led',\n",
    "                  'view','way','either','however','yet','know','get','use','therefore','even','like','could'])"
   ]
  },
  {
   "cell_type": "code",
   "execution_count": 7,
   "metadata": {},
   "outputs": [
    {
     "name": "stdout",
     "output_type": "stream",
     "text": [
      " recently obtained copy color xterm export lcs mit edu seeing mentioned previous article compilation reports following undefined symbols wmshellwidgetclass applicationshellwidgetclass still runs sending escape sequences set colour colour comes black text black background ideas anyone used program colour successfully anyone point colour terminal emulators running openwindows sun sparcs running sunos advathanksnce ben kelley\n"
     ]
    }
   ],
   "source": [
    "# Pre-processing\n",
    "\n",
    "# Get rid of stop words e.g. with nltk (and stem)\n",
    "ps = PorterStemmer()\n",
    "tokenizer = RegexpTokenizer(r'\\w+') ## Std pattern is '\\w+|\\$[\\d\\.]+|\\S+'\n",
    "\n",
    "newsgroup_trainN = []\n",
    "\n",
    "\n",
    "for message in newsgroup_train.data:\n",
    "    \n",
    "    #r'[^A-Za-z0-9#]+'\n",
    "    \n",
    "    # Sub all the special characters (except _)\n",
    "    document = re.sub(r'\\W', ' ', message)\n",
    "    document = re.sub(r'_', ' ', document)\n",
    "    # Sub all single characters\n",
    "    document = re.sub(r'\\s+[a-zA-Z]\\s+', ' ', document)\n",
    "    # Sub single characters from the start\n",
    "    document = re.sub(r'\\^[a-zA-Z]\\s+', ' ', document) \n",
    "    # Sub digits (https://stackoverflow.com/questions/39582859/python-regex-remove-numbers-and-numbers-with-punctaution?rq=1)\n",
    "    document = re.sub(r'\\b\\d+(?:\\.\\d+)?\\s+', ' ', document)\n",
    "    \n",
    "    # Substituting multiple spaces with single space\n",
    "    document = re.sub(r'\\s+', ' ', document, flags=re.I)\n",
    "    # Convert to Lowercase\n",
    "    document = document.lower()\n",
    "    document = document.strip()\n",
    "    \n",
    "    # Original code\n",
    "    text_token = tokenizer.tokenize(document)\n",
    "    messageN = ''\n",
    "    \n",
    "    for word in text_token:\n",
    "        if word not in stop_words:\n",
    "            #messageN = messageN + ' ' + ps.stem(word)\n",
    "            # w/o stemming\n",
    "            messageN = messageN + ' ' + word\n",
    "            \n",
    "    newsgroup_trainN.append(messageN)\n",
    "\n",
    "newsgroup_train.data = newsgroup_trainN\n",
    "\n",
    "# Print the same message as above, now in its processed form\n",
    "print(newsgroup_train[\"data\"][1])"
   ]
  },
  {
   "cell_type": "code",
   "execution_count": 16,
   "metadata": {},
   "outputs": [
    {
     "name": "stdout",
     "output_type": "stream",
     "text": [
      "7786\n"
     ]
    },
    {
     "data": {
      "text/plain": [
       "array(['1024x768', '10th', '17th', '18084tm', '1960s', '1993', '1b', '1d',\n",
       "       '1g', '1mb', '1st', '20th', '24bit', '24th', '24x', '2a', '2d',\n",
       "       '2mb', '2nd', '320x200x256', '386bsd', '3d', '3do', '3ds', '3e',\n",
       "       '3rd', '4368', '4mb', '4th', '5th', '640x480', '64k', '6th', '7th',\n",
       "       'abandon', 'abandoned', 'abdominal', 'abilities', 'ability',\n",
       "       'able', 'aboard', 'abort', 'abortion', 'abraham', 'absence',\n",
       "       'absent', 'absolute', 'absolutely', 'absolutes', 'absorbed',\n",
       "       'absorption', 'abstinence', 'abstract', 'abstraction', 'abstracts',\n",
       "       'absurd', 'abuse', 'ac', 'acad3', 'academic', 'academy',\n",
       "       'acceleration', 'accelerator', 'accelerators', 'accept',\n",
       "       'acceptable', 'acceptance', 'accepted', 'accepting', 'accepts',\n",
       "       'access', 'accessible', 'accident', 'accidental', 'accidently',\n",
       "       'accompanied', 'accompanying', 'accomplish', 'accomplished',\n",
       "       'accordance', 'according', 'account', 'accountable', 'accounting',\n",
       "       'accounts', 'accumulate', 'accuracy', 'accurate', 'accurately',\n",
       "       'accuse', 'accused', 'ace', 'achieve', 'achieved', 'achieving',\n",
       "       'acid', 'acidophilus', 'acids', 'acknowledge', 'acknowledged',\n",
       "       'acm', 'acquire', 'acquired', 'acronym', 'across', 'acs', 'act',\n",
       "       'acting', 'action', 'actions', 'activated', 'active', 'actively',\n",
       "       'activities', 'activity', 'acts', 'actual', 'actually',\n",
       "       'acupuncture', 'acute', 'ad', 'adam', 'adams', 'adapt',\n",
       "       'adaptation', 'adapted', 'add', 'added', 'adding', 'addition',\n",
       "       'additional', 'additionally', 'additions', 'additive', 'additives',\n",
       "       'addr', 'address', 'addressed', 'addresses', 'addressing', 'adds',\n",
       "       'adequate', 'adequately', 'adjust', 'adjustment', 'admin',\n",
       "       'administered', 'administration', 'administrative',\n",
       "       'administrator', 'admission', 'admit', 'admitted', 'admittedly',\n",
       "       'adobe', 'adopt', 'adopted', 'ads', 'adult', 'adults', 'advance',\n",
       "       'advanced', 'advancement', 'advances', 'advantage', 'advantages',\n",
       "       'adverse', 'advertising', 'advice', 'advisory', 'advocacy',\n",
       "       'advocate', 'advocated', 'aero', 'aeronautics', 'aerospace', 'af',\n",
       "       'affairs', 'affect', 'affected', 'affecting', 'affects',\n",
       "       'affiliated', 'afflicted', 'afford', 'afraid', 'africa', 'african',\n",
       "       'afterlife', 'afternoon', 'afterward', 'afterwards', 'age',\n",
       "       'agencies', 'agency', 'agenda', 'agent', 'ages', 'aggressive',\n",
       "       'aggressively'], dtype='<U14')"
      ]
     },
     "execution_count": 16,
     "metadata": {},
     "output_type": "execute_result"
    }
   ],
   "source": [
    "## OPTIONAL: Baseline vocab\n",
    "#from sklearn.feature_extraction.text import CountVectorizer  \n",
    "#vectorizer = CountVectorizer(min_df=5, max_df=0.7)\n",
    "#X = vectorizer.fit_transform(newsgroup_train.data).toarray()\n",
    "#\n",
    "#print(len(vectorizer.get_feature_names())) #length of all tokens\n",
    "#np.array(vectorizer.get_feature_names()[0:200]) #the first 200 tokens\n"
   ]
  },
  {
   "cell_type": "code",
   "execution_count": 244,
   "metadata": {},
   "outputs": [
    {
     "name": "stdout",
     "output_type": "stream",
     "text": [
      "alt.atheism: objective morality said well atheists islam religion atheism people god\n",
      "comp.graphics: format please looking program anyone file files image thanks graphics\n",
      "comp.windows.x: x11r5 display using application windows widget thanks motif server window\n",
      "sci.med: dsl shameful n3jxp chastity pitt geb banks gordon edu msg\n",
      "sci.space: also much lunar earth shuttle moon orbit launch nasa space\n",
      "soc.religion.christian: faith believe christ christian bible christians people church jesus god\n"
     ]
    }
   ],
   "source": [
    "## OPTIONAL: Run some metrics, determine most common words\n",
    "#from sklearn.feature_extraction.text import TfidfVectorizer\n",
    "#from sklearn.naive_bayes import MultinomialNB\n",
    "#from sklearn import metrics\n",
    "#\n",
    "## Converting text to vectors\n",
    "#vectorizer2 = TfidfVectorizer()\n",
    "#vectors = vectorizer2.fit_transform(newsgroup_train.data)\n",
    "#vectors.shape\n",
    "#\n",
    "## Filtering text for more realistic training\n",
    "#vectors_test = vectorizer2.transform(newsgroup_test.data)\n",
    "#clf = MultinomialNB(alpha=.01)\n",
    "#clf.fit(vectors, newsgroup_train.target)\n",
    "#pred = clf.predict(vectors_test)\n",
    "#metrics.f1_score(newsgroup_test.target, pred, average='macro')\n",
    "#\n",
    "#feature_names = np.asarray(vectorizer2.get_feature_names())\n",
    "#for i, category in enumerate(newsgroup_train.target_names):\n",
    "#    top10 = np.argsort(clf.coef_[i])[-10:]\n",
    "#    print(\"%s: %s\" % (category, \" \".join(feature_names[top10])))\n"
   ]
  },
  {
   "cell_type": "code",
   "execution_count": 8,
   "metadata": {},
   "outputs": [
    {
     "name": "stdout",
     "output_type": "stream",
     "text": [
      "Found 35918 unique tokens.\n",
      "[11714, 272, 310, 1051, 161, 2834, 44, 3062, 9851, 2138]\n"
     ]
    }
   ],
   "source": [
    "# Tokenize words (tensorflow keras Tokenizer)\n",
    "tokenizer = Tokenizer()\n",
    "tokenizer.fit_on_texts(newsgroup_train.data)\n",
    "\n",
    "# Get size of vocabulary \n",
    "# 1 needs to be added because of resrver 0 index\n",
    "vocab_size = len(tokenizer.word_index) + 1\n",
    "print('Found %s unique tokens.' % vocab_size)\n",
    "\n",
    "# Transforms each text in texts to a sequence of integers\n",
    "X_train = tokenizer.texts_to_sequences(newsgroup_train.data)\n",
    "X_test = tokenizer.texts_to_sequences(newsgroup_test.data)\n",
    "print (X_train[0][:10])"
   ]
  },
  {
   "cell_type": "code",
   "execution_count": 9,
   "metadata": {},
   "outputs": [
    {
     "name": "stdout",
     "output_type": "stream",
     "text": [
      "2000\n"
     ]
    }
   ],
   "source": [
    "# Padding\n",
    "#maxlen = max([len(i) for i in X_train])\n",
    "maxlen = 2000\n",
    "print(maxlen)"
   ]
  },
  {
   "cell_type": "code",
   "execution_count": 10,
   "metadata": {},
   "outputs": [
    {
     "name": "stdout",
     "output_type": "stream",
     "text": [
      "(3443, 2000)\n",
      "[  291    51    44  3724   372    46   146  1712 11722   811   202    80\n",
      "  1227  5819     1   204 14406  3181   381   340  6327  7657   196  1293\n",
      "   217    44    29 11723  6936    38  3182   604  2140   244  2392   745\n",
      "   138   228   444  1408   444  5443 14407  8606   440  2140  1408   444\n",
      "   348  1036]\n"
     ]
    }
   ],
   "source": [
    "X_train = pad_sequences(X_train, padding='post', maxlen=maxlen)\n",
    "X_test = pad_sequences(X_test, padding='post', maxlen=maxlen)\n",
    "\n",
    "print (X_train.shape)\n",
    "print (X_train[0][200:250])"
   ]
  },
  {
   "cell_type": "code",
   "execution_count": 11,
   "metadata": {},
   "outputs": [
    {
     "name": "stdout",
     "output_type": "stream",
     "text": [
      "Shape of data tensor: (3443, 2000)\n",
      "Shape of label tensor: (3443, 6)\n"
     ]
    }
   ],
   "source": [
    "labels = to_categorical(np.array(newsgroup_train.target))\n",
    "\n",
    "print('Shape of data tensor:', X_train.shape)\n",
    "print('Shape of label tensor:', labels.shape)"
   ]
  },
  {
   "cell_type": "markdown",
   "metadata": {},
   "source": [
    "## Bag of Words (BOW) Approach\n"
   ]
  },
  {
   "cell_type": "code",
   "execution_count": 12,
   "metadata": {},
   "outputs": [
    {
     "name": "stdout",
     "output_type": "stream",
     "text": [
      "Model: \"sequential\"\n",
      "_________________________________________________________________\n",
      "Layer (type)                 Output Shape              Param #   \n",
      "=================================================================\n",
      "embedding (Embedding)        (None, 2000, 50)          1795900   \n",
      "_________________________________________________________________\n",
      "flatten (Flatten)            (None, 100000)            0         \n",
      "_________________________________________________________________\n",
      "dense (Dense)                (None, 10)                1000010   \n",
      "_________________________________________________________________\n",
      "dense_1 (Dense)              (None, 6)                 66        \n",
      "=================================================================\n",
      "Total params: 2,795,976\n",
      "Trainable params: 2,795,976\n",
      "Non-trainable params: 0\n",
      "_________________________________________________________________\n"
     ]
    }
   ],
   "source": [
    "model = Sequential()\n",
    "\n",
    "embedding_dim = 50\n",
    "\n",
    "# Feature extraction\n",
    "model.add(layers.Embedding(input_dim=vocab_size, \n",
    "                           output_dim=embedding_dim, \n",
    "                           input_length=maxlen))\n",
    "model.add(layers.Flatten())\n",
    "\n",
    "# Classification\n",
    "model.add(layers.Dense(10, activation='relu'))\n",
    "model.add(layers.Dense(6, activation='softmax'))\n",
    "\n",
    "model.compile(optimizer='adam',\n",
    "              loss='sparse_categorical_crossentropy',\n",
    "              metrics=['accuracy'])\n",
    "model.summary()"
   ]
  },
  {
   "cell_type": "code",
   "execution_count": 267,
   "metadata": {},
   "outputs": [
    {
     "name": "stdout",
     "output_type": "stream",
     "text": [
      "Train on 3443 samples, validate on 2291 samples\n",
      "Epoch 1/10\n",
      "3443/3443 [==============================] - 16s 5ms/sample - loss: 1.8333 - accuracy: 0.1673 - val_loss: 1.7901 - val_accuracy: 0.1737\n",
      "Epoch 2/10\n",
      "3443/3443 [==============================] - 16s 5ms/sample - loss: 1.7896 - accuracy: 0.1647 - val_loss: 1.7895 - val_accuracy: 0.1737\n",
      "Epoch 3/10\n",
      "3443/3443 [==============================] - 16s 5ms/sample - loss: 1.7891 - accuracy: 0.1690 - val_loss: 1.7891 - val_accuracy: 0.1737\n",
      "Epoch 4/10\n",
      "3443/3443 [==============================] - 16s 5ms/sample - loss: 1.7889 - accuracy: 0.1690 - val_loss: 1.7890 - val_accuracy: 0.1737\n",
      "Epoch 5/10\n",
      "3443/3443 [==============================] - 16s 5ms/sample - loss: 1.7888 - accuracy: 0.1589 - val_loss: 1.7890 - val_accuracy: 0.1737\n",
      "Epoch 6/10\n",
      "3443/3443 [==============================] - 16s 5ms/sample - loss: 1.7887 - accuracy: 0.1743 - val_loss: 1.7889 - val_accuracy: 0.1737\n",
      "Epoch 7/10\n",
      "3443/3443 [==============================] - 16s 5ms/sample - loss: 1.7887 - accuracy: 0.1687 - val_loss: 1.7889 - val_accuracy: 0.1737\n",
      "Epoch 8/10\n",
      "3443/3443 [==============================] - 16s 5ms/sample - loss: 1.7887 - accuracy: 0.1653 - val_loss: 1.7889 - val_accuracy: 0.1737\n",
      "Epoch 9/10\n",
      "3443/3443 [==============================] - 16s 5ms/sample - loss: 1.7887 - accuracy: 0.1679 - val_loss: 1.7889 - val_accuracy: 0.1737\n",
      "Epoch 10/10\n",
      "3443/3443 [==============================] - 16s 5ms/sample - loss: 1.7888 - accuracy: 0.1647 - val_loss: 1.7889 - val_accuracy: 0.1737\n",
      "Training Accuracy: 0.1743\n",
      "Testing Accuracy:  0.1737\n"
     ]
    }
   ],
   "source": [
    "history = model.fit(X_train, newsgroup_train.target,\n",
    "                    epochs=10,\n",
    "                    verbose=True,\n",
    "                    validation_data=(X_test, newsgroup_test.target),\n",
    "                    batch_size=10)\n",
    "loss, accuracy = model.evaluate(X_train, newsgroup_train.target, verbose=False)\n",
    "print(\"Training Accuracy: {:.4f}\".format(accuracy))\n",
    "loss, accuracy = model.evaluate(X_test, newsgroup_test.target, verbose=False)\n",
    "print(\"Testing Accuracy:  {:.4f}\".format(accuracy))"
   ]
  },
  {
   "cell_type": "code",
   "execution_count": 268,
   "metadata": {},
   "outputs": [
    {
     "data": {
      "image/png": "[encoded data removed]",
      "text/plain": [
       "<Figure size 432x288 with 1 Axes>"
      ]
     },
     "metadata": {
      "needs_background": "light"
     },
     "output_type": "display_data"
    },
    {
     "data": {
      "image/png": "[encoded data removed]",
      "text/plain": [
       "<Figure size 432x288 with 1 Axes>"
      ]
     },
     "metadata": {
      "needs_background": "light"
     },
     "output_type": "display_data"
    }
   ],
   "source": [
    "# Plot training & validation accuracy values\n",
    "plt.plot(history.history['accuracy'])\n",
    "plt.plot(history.history['val_accuracy'])\n",
    "plt.title('Model accuracy')\n",
    "plt.ylabel('Accuracy')\n",
    "plt.xlabel('Epoch')\n",
    "plt.legend(['Train', 'Test'], loc='upper left')\n",
    "plt.show()\n",
    "\n",
    "# Plot training & validation loss values\n",
    "plt.plot(history.history['loss'])\n",
    "plt.plot(history.history['val_loss'])\n",
    "plt.title('Model loss')\n",
    "plt.ylabel('Loss')\n",
    "plt.xlabel('Epoch')\n",
    "plt.legend(['Train', 'Test'], loc='upper left')\n",
    "plt.show()"
   ]
  },
  {
   "cell_type": "markdown",
   "metadata": {},
   "source": [
    "## Word Embedding w/ pre-computed embedding space (GloVe)\n",
    "\n",
    "Now, we use Stanford's precomputed embedding space for our model.\n"
   ]
  },
  {
   "cell_type": "code",
   "execution_count": 16,
   "metadata": {},
   "outputs": [],
   "source": [
    "# We don't need the full GloVe vocabulary, only the words we really need\n",
    "# Helper function for creating the embedding matrix\n",
    "def create_embedding_matrix(filepath, word_index, embedding_dim):\n",
    "    vocab_size = len(word_index) + 1  # Adding again 1 because of reserved 0 index\n",
    "    embedding_matrix = np.zeros((vocab_size, embedding_dim))\n",
    "\n",
    "    with open(filepath) as f:\n",
    "        for line in f:\n",
    "            word, *vector = line.split()\n",
    "            if word in word_index:\n",
    "                idx = word_index[word] \n",
    "                embedding_matrix[idx] = np.array(\n",
    "                    vector, dtype=np.float32)[:embedding_dim]\n",
    "\n",
    "    return embedding_matrix"
   ]
  },
  {
   "cell_type": "code",
   "execution_count": 17,
   "metadata": {},
   "outputs": [],
   "source": [
    "# Create the embedding matrix for our vocab\n",
    "embedding_dim = 100\n",
    "embedding_matrix = create_embedding_matrix('glove.6B.100d.txt', tokenizer.word_index, embedding_dim)"
   ]
  },
  {
   "cell_type": "code",
   "execution_count": 18,
   "metadata": {},
   "outputs": [
    {
     "data": {
      "text/plain": [
       "0.7690294559830726"
      ]
     },
     "execution_count": 18,
     "metadata": {},
     "output_type": "execute_result"
    }
   ],
   "source": [
    "# Check how many of our words are covered by the GloVe vocab\n",
    "nonzero_elements = np.count_nonzero(np.count_nonzero(embedding_matrix, axis=1))\n",
    "nonzero_elements / vocab_size"
   ]
  },
  {
   "cell_type": "code",
   "execution_count": 65,
   "metadata": {},
   "outputs": [
    {
     "name": "stdout",
     "output_type": "stream",
     "text": [
      "Model: \"sequential_1\"\n",
      "_________________________________________________________________\n",
      "Layer (type)                 Output Shape              Param #   \n",
      "=================================================================\n",
      "embedding_1 (Embedding)      (None, 2000, 100)         3591800   \n",
      "_________________________________________________________________\n",
      "global_max_pooling1d_1 (Glob (None, 100)               0         \n",
      "_________________________________________________________________\n",
      "dense_2 (Dense)              (None, 10)                1010      \n",
      "_________________________________________________________________\n",
      "dense_3 (Dense)              (None, 6)                 66        \n",
      "=================================================================\n",
      "Total params: 3,592,876\n",
      "Trainable params: 1,076\n",
      "Non-trainable params: 3,591,800\n",
      "_________________________________________________________________\n"
     ]
    }
   ],
   "source": [
    "model = Sequential()\n",
    "model.add(layers.Embedding(input_dim=vocab_size, output_dim=embedding_dim, \n",
    "                           weights=[embedding_matrix], \n",
    "                           input_length=maxlen, \n",
    "                           trainable=False))\n",
    "model.add(layers.GlobalMaxPool1D())\n",
    "model.add(layers.Dense(10, activation='relu'))\n",
    "model.add(layers.Dense(6, activation='sigmoid'))\n",
    "model.compile(optimizer='adam',\n",
    "              loss='sparse_categorical_crossentropy',\n",
    "              metrics=['accuracy'])\n",
    "model.summary()\n"
   ]
  },
  {
   "cell_type": "code",
   "execution_count": 66,
   "metadata": {},
   "outputs": [
    {
     "name": "stdout",
     "output_type": "stream",
     "text": [
      "Train on 3443 samples, validate on 2291 samples\n",
      "Epoch 1/50\n",
      "3443/3443 [==============================] - 3s 978us/sample - loss: 1.7729 - accuracy: 0.2289 - val_loss: 1.7201 - val_accuracy: 0.2964\n",
      "Epoch 2/50\n",
      "3443/3443 [==============================] - 3s 875us/sample - loss: 1.6471 - accuracy: 0.3090 - val_loss: 1.5684 - val_accuracy: 0.3125\n",
      "Epoch 3/50\n",
      "3443/3443 [==============================] - 3s 874us/sample - loss: 1.4766 - accuracy: 0.3636 - val_loss: 1.4086 - val_accuracy: 0.3693\n",
      "Epoch 4/50\n",
      "3443/3443 [==============================] - 3s 876us/sample - loss: 1.3161 - accuracy: 0.4043 - val_loss: 1.2850 - val_accuracy: 0.4361\n",
      "Epoch 5/50\n",
      "3443/3443 [==============================] - 3s 874us/sample - loss: 1.2541 - accuracy: 0.4455 - val_loss: 1.2528 - val_accuracy: 0.4531\n",
      "Epoch 6/50\n",
      "3443/3443 [==============================] - 3s 878us/sample - loss: 1.2209 - accuracy: 0.4682 - val_loss: 1.2209 - val_accuracy: 0.4675\n",
      "Epoch 7/50\n",
      "3443/3443 [==============================] - 3s 875us/sample - loss: 1.1962 - accuracy: 0.4816 - val_loss: 1.2271 - val_accuracy: 0.4518\n",
      "Epoch 8/50\n",
      "3443/3443 [==============================] - 3s 876us/sample - loss: 1.1722 - accuracy: 0.4868 - val_loss: 1.1874 - val_accuracy: 0.4679\n",
      "Epoch 9/50\n",
      "3443/3443 [==============================] - 3s 875us/sample - loss: 1.1523 - accuracy: 0.4920 - val_loss: 1.1720 - val_accuracy: 0.4897\n",
      "Epoch 10/50\n",
      "3443/3443 [==============================] - 3s 875us/sample - loss: 1.1378 - accuracy: 0.4996 - val_loss: 1.1635 - val_accuracy: 0.4810\n",
      "Epoch 11/50\n",
      "3443/3443 [==============================] - 3s 875us/sample - loss: 1.1240 - accuracy: 0.4984 - val_loss: 1.1584 - val_accuracy: 0.4836\n",
      "Epoch 12/50\n",
      "3443/3443 [==============================] - 3s 873us/sample - loss: 1.1094 - accuracy: 0.5036 - val_loss: 1.1412 - val_accuracy: 0.5041\n",
      "Epoch 13/50\n",
      "3443/3443 [==============================] - 3s 874us/sample - loss: 1.1054 - accuracy: 0.5118 - val_loss: 1.1322 - val_accuracy: 0.5011\n",
      "Epoch 14/50\n",
      "3443/3443 [==============================] - 3s 876us/sample - loss: 1.0924 - accuracy: 0.5269 - val_loss: 1.1560 - val_accuracy: 0.4801\n",
      "Epoch 15/50\n",
      "3443/3443 [==============================] - 3s 880us/sample - loss: 1.0849 - accuracy: 0.5202 - val_loss: 1.1408 - val_accuracy: 0.4976\n",
      "Epoch 16/50\n",
      "3443/3443 [==============================] - 3s 877us/sample - loss: 1.0778 - accuracy: 0.5182 - val_loss: 1.1156 - val_accuracy: 0.5133\n",
      "Epoch 17/50\n",
      "3443/3443 [==============================] - 3s 874us/sample - loss: 1.0720 - accuracy: 0.5292 - val_loss: 1.1110 - val_accuracy: 0.5116\n",
      "Epoch 18/50\n",
      "3443/3443 [==============================] - 3s 873us/sample - loss: 1.0617 - accuracy: 0.5327 - val_loss: 1.1112 - val_accuracy: 0.5085\n",
      "Epoch 19/50\n",
      "3443/3443 [==============================] - 3s 874us/sample - loss: 1.0603 - accuracy: 0.5356 - val_loss: 1.1169 - val_accuracy: 0.5081\n",
      "Epoch 20/50\n",
      "3443/3443 [==============================] - 3s 874us/sample - loss: 1.0562 - accuracy: 0.5347 - val_loss: 1.1195 - val_accuracy: 0.5076\n",
      "Epoch 21/50\n",
      "3443/3443 [==============================] - 3s 873us/sample - loss: 1.0524 - accuracy: 0.5365 - val_loss: 1.1131 - val_accuracy: 0.5137\n",
      "Epoch 22/50\n",
      "3443/3443 [==============================] - 3s 875us/sample - loss: 1.0442 - accuracy: 0.5359 - val_loss: 1.1124 - val_accuracy: 0.5107\n",
      "Epoch 23/50\n",
      "3443/3443 [==============================] - 3s 873us/sample - loss: 1.0426 - accuracy: 0.5443 - val_loss: 1.0986 - val_accuracy: 0.5094\n",
      "Epoch 24/50\n",
      "3443/3443 [==============================] - 3s 874us/sample - loss: 1.0424 - accuracy: 0.5449 - val_loss: 1.1028 - val_accuracy: 0.5081\n",
      "Epoch 25/50\n",
      "3443/3443 [==============================] - 3s 874us/sample - loss: 1.0377 - accuracy: 0.5408 - val_loss: 1.0967 - val_accuracy: 0.5282\n",
      "Epoch 26/50\n",
      "3443/3443 [==============================] - 3s 877us/sample - loss: 1.0324 - accuracy: 0.5426 - val_loss: 1.0943 - val_accuracy: 0.5268\n",
      "Epoch 27/50\n",
      "3443/3443 [==============================] - 3s 874us/sample - loss: 1.0333 - accuracy: 0.5376 - val_loss: 1.0989 - val_accuracy: 0.5033\n",
      "Epoch 28/50\n",
      "3443/3443 [==============================] - 3s 874us/sample - loss: 1.0295 - accuracy: 0.5434 - val_loss: 1.0911 - val_accuracy: 0.5194\n",
      "Epoch 29/50\n",
      "3443/3443 [==============================] - 3s 875us/sample - loss: 1.0277 - accuracy: 0.5466 - val_loss: 1.1013 - val_accuracy: 0.5037\n",
      "Epoch 30/50\n",
      "3443/3443 [==============================] - 3s 875us/sample - loss: 1.0277 - accuracy: 0.5501 - val_loss: 1.0908 - val_accuracy: 0.5151\n",
      "Epoch 31/50\n",
      "3443/3443 [==============================] - 3s 874us/sample - loss: 1.0237 - accuracy: 0.5417 - val_loss: 1.0931 - val_accuracy: 0.5094\n",
      "Epoch 32/50\n",
      "3443/3443 [==============================] - 3s 874us/sample - loss: 1.0250 - accuracy: 0.5446 - val_loss: 1.0958 - val_accuracy: 0.5199\n",
      "Epoch 33/50\n",
      "3443/3443 [==============================] - 3s 875us/sample - loss: 1.0237 - accuracy: 0.5402 - val_loss: 1.0886 - val_accuracy: 0.5247\n",
      "Epoch 34/50\n",
      "3443/3443 [==============================] - 3s 874us/sample - loss: 1.0175 - accuracy: 0.5489 - val_loss: 1.0937 - val_accuracy: 0.5194\n",
      "Epoch 35/50\n",
      "3443/3443 [==============================] - 3s 875us/sample - loss: 1.0157 - accuracy: 0.5440 - val_loss: 1.1284 - val_accuracy: 0.5033\n",
      "Epoch 36/50\n",
      "3443/3443 [==============================] - 3s 879us/sample - loss: 1.0165 - accuracy: 0.5434 - val_loss: 1.0992 - val_accuracy: 0.5159\n",
      "Epoch 37/50\n",
      "3443/3443 [==============================] - 3s 875us/sample - loss: 1.0126 - accuracy: 0.5437 - val_loss: 1.1025 - val_accuracy: 0.5199\n",
      "Epoch 38/50\n",
      "3443/3443 [==============================] - 3s 874us/sample - loss: 1.0108 - accuracy: 0.5568 - val_loss: 1.0948 - val_accuracy: 0.5137\n",
      "Epoch 39/50\n",
      "3443/3443 [==============================] - 3s 875us/sample - loss: 1.0089 - accuracy: 0.5518 - val_loss: 1.1024 - val_accuracy: 0.5028\n",
      "Epoch 40/50\n",
      "3443/3443 [==============================] - 3s 876us/sample - loss: 1.0094 - accuracy: 0.5472 - val_loss: 1.1074 - val_accuracy: 0.5089\n",
      "Epoch 41/50\n",
      "3443/3443 [==============================] - 3s 875us/sample - loss: 1.0107 - accuracy: 0.5443 - val_loss: 1.1067 - val_accuracy: 0.5107\n",
      "Epoch 42/50\n",
      "3443/3443 [==============================] - 3s 875us/sample - loss: 1.0062 - accuracy: 0.5507 - val_loss: 1.1006 - val_accuracy: 0.5094\n",
      "Epoch 43/50\n",
      "3443/3443 [==============================] - 3s 874us/sample - loss: 1.0111 - accuracy: 0.5443 - val_loss: 1.0908 - val_accuracy: 0.5255\n",
      "Epoch 44/50\n",
      "3443/3443 [==============================] - 3s 874us/sample - loss: 1.0075 - accuracy: 0.5492 - val_loss: 1.0958 - val_accuracy: 0.5142\n",
      "Epoch 45/50\n",
      "3443/3443 [==============================] - 3s 873us/sample - loss: 1.0020 - accuracy: 0.5457 - val_loss: 1.0903 - val_accuracy: 0.5142\n",
      "Epoch 46/50\n",
      "3443/3443 [==============================] - 3s 879us/sample - loss: 1.0040 - accuracy: 0.5553 - val_loss: 1.1032 - val_accuracy: 0.5007\n",
      "Epoch 47/50\n",
      "3443/3443 [==============================] - 3s 873us/sample - loss: 1.0035 - accuracy: 0.5530 - val_loss: 1.0934 - val_accuracy: 0.5072\n",
      "Epoch 48/50\n",
      "3443/3443 [==============================] - 3s 877us/sample - loss: 1.0023 - accuracy: 0.5518 - val_loss: 1.0993 - val_accuracy: 0.5050\n",
      "Epoch 49/50\n",
      "3443/3443 [==============================] - 3s 874us/sample - loss: 1.0013 - accuracy: 0.5428 - val_loss: 1.0968 - val_accuracy: 0.5072\n",
      "Epoch 50/50\n",
      "3443/3443 [==============================] - 3s 873us/sample - loss: 1.0013 - accuracy: 0.5521 - val_loss: 1.0942 - val_accuracy: 0.5085\n",
      "Training Accuracy: 0.5440\n",
      "Testing Accuracy:  0.5085\n"
     ]
    }
   ],
   "source": [
    "history = model.fit(X_train, newsgroup_train.target,\n",
    "                    epochs=50,\n",
    "                    verbose=True,\n",
    "                    validation_data=(X_test, newsgroup_test.target),\n",
    "                    batch_size=10)\n",
    "loss, accuracy = model.evaluate(X_train, newsgroup_train.target, verbose=False)\n",
    "print(\"Training Accuracy: {:.4f}\".format(accuracy))\n",
    "loss, accuracy = model.evaluate(X_test, newsgroup_test.target, verbose=False)\n",
    "print(\"Testing Accuracy:  {:.4f}\".format(accuracy))"
   ]
  },
  {
   "cell_type": "code",
   "execution_count": 67,
   "metadata": {},
   "outputs": [
    {
     "data": {
      "image/png": "[encoded data removed]",
      "text/plain": [
       "<Figure size 432x288 with 1 Axes>"
      ]
     },
     "metadata": {
      "needs_background": "light"
     },
     "output_type": "display_data"
    },
    {
     "data": {
      "image/png": "[encoded data removed]",
      "text/plain": [
       "<Figure size 432x288 with 1 Axes>"
      ]
     },
     "metadata": {
      "needs_background": "light"
     },
     "output_type": "display_data"
    }
   ],
   "source": [
    "# Plot training & validation accuracy values\n",
    "plt.plot(history.history['accuracy'])\n",
    "plt.plot(history.history['val_accuracy'])\n",
    "plt.title('Model accuracy')\n",
    "plt.ylabel('Accuracy')\n",
    "plt.xlabel('Epoch')\n",
    "plt.legend(['Train', 'Test'], loc='upper left')\n",
    "plt.show()\n",
    "\n",
    "# Plot training & validation loss values\n",
    "plt.plot(history.history['loss'])\n",
    "plt.plot(history.history['val_loss'])\n",
    "plt.title('Model loss')\n",
    "plt.ylabel('Loss')\n",
    "plt.xlabel('Epoch')\n",
    "plt.legend(['Train', 'Test'], loc='upper left')\n",
    "plt.show()"
   ]
  },
  {
   "cell_type": "markdown",
   "metadata": {},
   "source": [
    "### Same model with training the word embeddings"
   ]
  },
  {
   "cell_type": "code",
   "execution_count": 68,
   "metadata": {},
   "outputs": [
    {
     "name": "stdout",
     "output_type": "stream",
     "text": [
      "Model: \"sequential_2\"\n",
      "_________________________________________________________________\n",
      "Layer (type)                 Output Shape              Param #   \n",
      "=================================================================\n",
      "embedding_2 (Embedding)      (None, 2000, 100)         3591800   \n",
      "_________________________________________________________________\n",
      "global_max_pooling1d_2 (Glob (None, 100)               0         \n",
      "_________________________________________________________________\n",
      "dense_4 (Dense)              (None, 10)                1010      \n",
      "_________________________________________________________________\n",
      "dense_5 (Dense)              (None, 6)                 66        \n",
      "=================================================================\n",
      "Total params: 3,592,876\n",
      "Trainable params: 3,592,876\n",
      "Non-trainable params: 0\n",
      "_________________________________________________________________\n"
     ]
    }
   ],
   "source": [
    "model = Sequential()\n",
    "model.add(layers.Embedding(input_dim=vocab_size, output_dim=embedding_dim, \n",
    "                           weights=[embedding_matrix], \n",
    "                           input_length=maxlen, \n",
    "                           trainable=True))\n",
    "model.add(layers.GlobalMaxPool1D())\n",
    "model.add(layers.Dense(10, activation='relu'))\n",
    "model.add(layers.Dense(6, activation='sigmoid'))\n",
    "model.compile(optimizer='adam',\n",
    "              loss='sparse_categorical_crossentropy',\n",
    "              metrics=['accuracy'])\n",
    "model.summary()"
   ]
  },
  {
   "cell_type": "code",
   "execution_count": 69,
   "metadata": {},
   "outputs": [
    {
     "name": "stdout",
     "output_type": "stream",
     "text": [
      "Train on 3443 samples, validate on 2291 samples\n",
      "Epoch 1/50\n",
      "3443/3443 [==============================] - 18s 5ms/sample - loss: 1.7692 - accuracy: 0.2094 - val_loss: 1.7205 - val_accuracy: 0.2850\n",
      "Epoch 2/50\n",
      "3443/3443 [==============================] - 18s 5ms/sample - loss: 1.5952 - accuracy: 0.3607 - val_loss: 1.4662 - val_accuracy: 0.4470\n",
      "Epoch 3/50\n",
      "3443/3443 [==============================] - 17s 5ms/sample - loss: 1.1746 - accuracy: 0.5440 - val_loss: 1.1474 - val_accuracy: 0.5687\n",
      "Epoch 4/50\n",
      "3443/3443 [==============================] - 18s 5ms/sample - loss: 0.8418 - accuracy: 0.7020 - val_loss: 1.0211 - val_accuracy: 0.6019\n",
      "Epoch 5/50\n",
      "3443/3443 [==============================] - 17s 5ms/sample - loss: 0.6183 - accuracy: 0.7979 - val_loss: 0.8897 - val_accuracy: 0.6735\n",
      "Epoch 6/50\n",
      "3443/3443 [==============================] - 18s 5ms/sample - loss: 0.4472 - accuracy: 0.8763 - val_loss: 0.8303 - val_accuracy: 0.6993\n",
      "Epoch 7/50\n",
      "3443/3443 [==============================] - 17s 5ms/sample - loss: 0.3271 - accuracy: 0.9123 - val_loss: 0.8004 - val_accuracy: 0.7154\n",
      "Epoch 8/50\n",
      "3443/3443 [==============================] - 17s 5ms/sample - loss: 0.2386 - accuracy: 0.9396 - val_loss: 0.7695 - val_accuracy: 0.7241\n",
      "Epoch 9/50\n",
      "3443/3443 [==============================] - 17s 5ms/sample - loss: 0.1736 - accuracy: 0.9590 - val_loss: 0.7677 - val_accuracy: 0.7228\n",
      "Epoch 10/50\n",
      "3443/3443 [==============================] - 17s 5ms/sample - loss: 0.1313 - accuracy: 0.9675 - val_loss: 0.7768 - val_accuracy: 0.7307\n",
      "Epoch 11/50\n",
      "3443/3443 [==============================] - 17s 5ms/sample - loss: 0.1023 - accuracy: 0.9750 - val_loss: 0.7833 - val_accuracy: 0.7333\n",
      "Epoch 12/50\n",
      "3443/3443 [==============================] - 18s 5ms/sample - loss: 0.0817 - accuracy: 0.9800 - val_loss: 0.7762 - val_accuracy: 0.7372\n",
      "Epoch 13/50\n",
      "3443/3443 [==============================] - 18s 5ms/sample - loss: 0.0686 - accuracy: 0.9817 - val_loss: 0.7849 - val_accuracy: 0.7394\n",
      "Epoch 14/50\n",
      "3443/3443 [==============================] - 17s 5ms/sample - loss: 0.0594 - accuracy: 0.9817 - val_loss: 0.7934 - val_accuracy: 0.7385\n",
      "Epoch 15/50\n",
      "3443/3443 [==============================] - 17s 5ms/sample - loss: 0.0532 - accuracy: 0.9829 - val_loss: 0.8038 - val_accuracy: 0.7420\n",
      "Epoch 16/50\n",
      "3443/3443 [==============================] - 17s 5ms/sample - loss: 0.0491 - accuracy: 0.9826 - val_loss: 0.8111 - val_accuracy: 0.7455\n",
      "Epoch 17/50\n",
      "3443/3443 [==============================] - 17s 5ms/sample - loss: 0.0463 - accuracy: 0.9826 - val_loss: 0.8225 - val_accuracy: 0.7399\n",
      "Epoch 18/50\n",
      "3443/3443 [==============================] - 17s 5ms/sample - loss: 0.0440 - accuracy: 0.9829 - val_loss: 0.8341 - val_accuracy: 0.7433\n",
      "Epoch 19/50\n",
      "3443/3443 [==============================] - 18s 5ms/sample - loss: 0.0424 - accuracy: 0.9829 - val_loss: 0.8446 - val_accuracy: 0.7438\n",
      "Epoch 20/50\n",
      "3443/3443 [==============================] - 18s 5ms/sample - loss: 0.0415 - accuracy: 0.9829 - val_loss: 0.8532 - val_accuracy: 0.7438\n",
      "Epoch 21/50\n",
      "3443/3443 [==============================] - 18s 5ms/sample - loss: 0.0404 - accuracy: 0.9829 - val_loss: 0.8715 - val_accuracy: 0.7464\n",
      "Epoch 22/50\n",
      "3443/3443 [==============================] - 18s 5ms/sample - loss: 0.0399 - accuracy: 0.9826 - val_loss: 0.8738 - val_accuracy: 0.7477\n",
      "Epoch 23/50\n",
      "3443/3443 [==============================] - 17s 5ms/sample - loss: 0.0391 - accuracy: 0.9826 - val_loss: 0.8872 - val_accuracy: 0.7521\n",
      "Epoch 24/50\n",
      "3443/3443 [==============================] - 17s 5ms/sample - loss: 0.0388 - accuracy: 0.9832 - val_loss: 0.8972 - val_accuracy: 0.7508\n",
      "Epoch 25/50\n",
      "3443/3443 [==============================] - 18s 5ms/sample - loss: 0.0382 - accuracy: 0.9832 - val_loss: 0.9128 - val_accuracy: 0.7508\n",
      "Epoch 26/50\n",
      "3443/3443 [==============================] - 18s 5ms/sample - loss: 0.0379 - accuracy: 0.9829 - val_loss: 0.9254 - val_accuracy: 0.7521\n",
      "Epoch 27/50\n",
      "3443/3443 [==============================] - 18s 5ms/sample - loss: 0.0374 - accuracy: 0.9840 - val_loss: 0.9302 - val_accuracy: 0.7442\n",
      "Epoch 28/50\n",
      "3443/3443 [==============================] - 18s 5ms/sample - loss: 0.0374 - accuracy: 0.9840 - val_loss: 0.9432 - val_accuracy: 0.7477\n",
      "Epoch 29/50\n",
      "3443/3443 [==============================] - 17s 5ms/sample - loss: 0.0366 - accuracy: 0.9840 - val_loss: 0.9770 - val_accuracy: 0.7516\n",
      "Epoch 30/50\n",
      "3443/3443 [==============================] - 17s 5ms/sample - loss: 0.0369 - accuracy: 0.9826 - val_loss: 0.9634 - val_accuracy: 0.7525\n",
      "Epoch 31/50\n",
      "3443/3443 [==============================] - 17s 5ms/sample - loss: 0.0365 - accuracy: 0.9832 - val_loss: 0.9686 - val_accuracy: 0.7529\n",
      "Epoch 32/50\n",
      "3443/3443 [==============================] - 17s 5ms/sample - loss: 0.0368 - accuracy: 0.9817 - val_loss: 0.9743 - val_accuracy: 0.7529\n",
      "Epoch 33/50\n",
      "3443/3443 [==============================] - 18s 5ms/sample - loss: 0.0363 - accuracy: 0.9840 - val_loss: 0.9860 - val_accuracy: 0.7451\n",
      "Epoch 34/50\n",
      "3443/3443 [==============================] - 18s 5ms/sample - loss: 0.0363 - accuracy: 0.9832 - val_loss: 0.9967 - val_accuracy: 0.7433\n",
      "Epoch 35/50\n",
      "3443/3443 [==============================] - 17s 5ms/sample - loss: 0.0363 - accuracy: 0.9834 - val_loss: 1.0017 - val_accuracy: 0.7529\n",
      "Epoch 36/50\n",
      "3443/3443 [==============================] - 17s 5ms/sample - loss: 0.0362 - accuracy: 0.9820 - val_loss: 1.0082 - val_accuracy: 0.7543\n",
      "Epoch 37/50\n",
      "3443/3443 [==============================] - 17s 5ms/sample - loss: 0.0360 - accuracy: 0.9826 - val_loss: 1.0122 - val_accuracy: 0.7529\n",
      "Epoch 38/50\n",
      "3443/3443 [==============================] - 17s 5ms/sample - loss: 0.0359 - accuracy: 0.9832 - val_loss: 1.0172 - val_accuracy: 0.7538\n",
      "Epoch 39/50\n",
      "3443/3443 [==============================] - 18s 5ms/sample - loss: 0.0360 - accuracy: 0.9852 - val_loss: 1.0306 - val_accuracy: 0.7499\n",
      "Epoch 40/50\n",
      "3443/3443 [==============================] - 17s 5ms/sample - loss: 0.0359 - accuracy: 0.9837 - val_loss: 1.0259 - val_accuracy: 0.7543\n",
      "Epoch 41/50\n",
      "3443/3443 [==============================] - 17s 5ms/sample - loss: 0.0360 - accuracy: 0.9832 - val_loss: 1.0376 - val_accuracy: 0.7516\n",
      "Epoch 42/50\n",
      "3443/3443 [==============================] - 17s 5ms/sample - loss: 0.0359 - accuracy: 0.9837 - val_loss: 1.0417 - val_accuracy: 0.7534\n",
      "Epoch 43/50\n",
      "3443/3443 [==============================] - 18s 5ms/sample - loss: 0.0358 - accuracy: 0.9834 - val_loss: 1.0459 - val_accuracy: 0.7538\n",
      "Epoch 44/50\n",
      "3443/3443 [==============================] - 17s 5ms/sample - loss: 0.0360 - accuracy: 0.9826 - val_loss: 1.0532 - val_accuracy: 0.7547\n",
      "Epoch 45/50\n",
      "3443/3443 [==============================] - 17s 5ms/sample - loss: 0.0358 - accuracy: 0.9834 - val_loss: 1.0756 - val_accuracy: 0.7538\n",
      "Epoch 46/50\n",
      "3443/3443 [==============================] - 17s 5ms/sample - loss: 0.0356 - accuracy: 0.9826 - val_loss: 1.0695 - val_accuracy: 0.7569\n",
      "Epoch 47/50\n",
      "3443/3443 [==============================] - 18s 5ms/sample - loss: 0.0359 - accuracy: 0.9826 - val_loss: 1.0865 - val_accuracy: 0.7538\n",
      "Epoch 48/50\n",
      "3443/3443 [==============================] - 18s 5ms/sample - loss: 0.0356 - accuracy: 0.9843 - val_loss: 1.0723 - val_accuracy: 0.7543\n",
      "Epoch 49/50\n",
      "3443/3443 [==============================] - 18s 5ms/sample - loss: 0.0353 - accuracy: 0.9820 - val_loss: 1.1465 - val_accuracy: 0.7490\n",
      "Epoch 50/50\n",
      "3443/3443 [==============================] - 18s 5ms/sample - loss: 0.0361 - accuracy: 0.9832 - val_loss: 1.1003 - val_accuracy: 0.7551\n",
      "Training Accuracy: 0.9837\n",
      "Testing Accuracy:  0.7551\n"
     ]
    }
   ],
   "source": [
    "history = model.fit(X_train, newsgroup_train.target,\n",
    "                    epochs=50,\n",
    "                    verbose=True,\n",
    "                    validation_data=(X_test, newsgroup_test.target),\n",
    "                    batch_size=10)\n",
    "loss, accuracy = model.evaluate(X_train, newsgroup_train.target, verbose=False)\n",
    "print(\"Training Accuracy: {:.4f}\".format(accuracy))\n",
    "loss, accuracy = model.evaluate(X_test, newsgroup_test.target, verbose=False)\n",
    "print(\"Testing Accuracy:  {:.4f}\".format(accuracy))"
   ]
  },
  {
   "cell_type": "code",
   "execution_count": 70,
   "metadata": {},
   "outputs": [
    {
     "data": {
      "image/png": "[encoded data removed]",
      "text/plain": [
       "<Figure size 432x288 with 1 Axes>"
      ]
     },
     "metadata": {
      "needs_background": "light"
     },
     "output_type": "display_data"
    },
    {
     "data": {
      "image/png": "[encoded data removed]",
      "text/plain": [
       "<Figure size 432x288 with 1 Axes>"
      ]
     },
     "metadata": {
      "needs_background": "light"
     },
     "output_type": "display_data"
    }
   ],
   "source": [
    "# Plot training & validation accuracy values\n",
    "plt.plot(history.history['accuracy'])\n",
    "plt.plot(history.history['val_accuracy'])\n",
    "plt.title('Model accuracy')\n",
    "plt.ylabel('Accuracy')\n",
    "plt.xlabel('Epoch')\n",
    "plt.legend(['Train', 'Test'], loc='upper left')\n",
    "plt.show()\n",
    "\n",
    "# Plot training & validation loss values\n",
    "plt.plot(history.history['loss'])\n",
    "plt.plot(history.history['val_loss'])\n",
    "plt.title('Model loss')\n",
    "plt.ylabel('Loss')\n",
    "plt.xlabel('Epoch')\n",
    "plt.legend(['Train', 'Test'], loc='upper left')\n",
    "plt.show()"
   ]
  },
  {
   "cell_type": "markdown",
   "metadata": {},
   "source": [
    "### CNN"
   ]
  },
  {
   "cell_type": "code",
   "execution_count": 230,
   "metadata": {},
   "outputs": [
    {
     "name": "stdout",
     "output_type": "stream",
     "text": [
      "Model: \"sequential_22\"\n",
      "_________________________________________________________________\n",
      "Layer (type)                 Output Shape              Param #   \n",
      "=================================================================\n",
      "embedding_22 (Embedding)     (None, 1500, 100)         3591800   \n",
      "_________________________________________________________________\n",
      "conv1d (Conv1D)              (None, 1496, 128)         64128     \n",
      "_________________________________________________________________\n",
      "global_max_pooling1d_11 (Glo (None, 128)               0         \n",
      "_________________________________________________________________\n",
      "dense_38 (Dense)             (None, 10)                1290      \n",
      "_________________________________________________________________\n",
      "dense_39 (Dense)             (None, 6)                 66        \n",
      "=================================================================\n",
      "Total params: 3,657,284\n",
      "Trainable params: 3,657,284\n",
      "Non-trainable params: 0\n",
      "_________________________________________________________________\n"
     ]
    }
   ],
   "source": [
    "embedding_dim = 100\n",
    "\n",
    "model = Sequential()\n",
    "model.add(layers.Embedding(vocab_size, embedding_dim, input_length=maxlen))\n",
    "model.add(layers.Conv1D(128, 5, activation='relu'))\n",
    "model.add(layers.GlobalMaxPooling1D())\n",
    "model.add(layers.Dense(10, activation='relu'))\n",
    "model.add(layers.Dense(6, activation='sigmoid'))\n",
    "model.compile(optimizer='adam',\n",
    "              loss='sparse_categorical_crossentropy',\n",
    "              metrics=['accuracy'])\n",
    "model.summary()\n"
   ]
  },
  {
   "cell_type": "code",
   "execution_count": 232,
   "metadata": {},
   "outputs": [
    {
     "name": "stdout",
     "output_type": "stream",
     "text": [
      "Train on 3443 samples, validate on 2291 samples\n",
      "Epoch 1/10\n",
      "3443/3443 [==============================] - 48s 14ms/sample - loss: 1.0438 - accuracy: 0.6149 - val_loss: 0.8206 - val_accuracy: 0.7097\n",
      "Epoch 2/10\n",
      "3443/3443 [==============================] - 46s 13ms/sample - loss: 0.2676 - accuracy: 0.9088 - val_loss: 0.8470 - val_accuracy: 0.7372\n",
      "Epoch 3/10\n",
      "3443/3443 [==============================] - 46s 13ms/sample - loss: 0.0727 - accuracy: 0.9779 - val_loss: 0.8245 - val_accuracy: 0.7564\n",
      "Epoch 4/10\n",
      "3443/3443 [==============================] - 46s 13ms/sample - loss: 0.0506 - accuracy: 0.9802 - val_loss: 0.8699 - val_accuracy: 0.7521\n",
      "Epoch 5/10\n",
      "3443/3443 [==============================] - 46s 13ms/sample - loss: 0.0460 - accuracy: 0.9811 - val_loss: 0.8750 - val_accuracy: 0.7577\n",
      "Epoch 6/10\n",
      "3443/3443 [==============================] - 46s 13ms/sample - loss: 0.0428 - accuracy: 0.9814 - val_loss: 0.9305 - val_accuracy: 0.7486\n",
      "Epoch 7/10\n",
      "3443/3443 [==============================] - 46s 13ms/sample - loss: 0.0400 - accuracy: 0.9829 - val_loss: 0.9304 - val_accuracy: 0.7599\n",
      "Epoch 8/10\n",
      "3443/3443 [==============================] - 46s 13ms/sample - loss: 0.0390 - accuracy: 0.9829 - val_loss: 0.9277 - val_accuracy: 0.7599\n",
      "Epoch 9/10\n",
      "3443/3443 [==============================] - 46s 13ms/sample - loss: 0.0387 - accuracy: 0.9829 - val_loss: 0.9602 - val_accuracy: 0.7599\n",
      "Epoch 10/10\n",
      "3443/3443 [==============================] - 47s 14ms/sample - loss: 0.0384 - accuracy: 0.9823 - val_loss: 0.9789 - val_accuracy: 0.7560\n",
      "Training Accuracy: 0.9834\n",
      "Testing Accuracy:  0.7560\n"
     ]
    }
   ],
   "source": [
    "history = model.fit(X_train, newsgroup_train.target,\n",
    "                    epochs=10,\n",
    "                    verbose=True,\n",
    "                    validation_data=(X_test, newsgroup_test.target),\n",
    "                    batch_size=10)\n",
    "loss, accuracy = model.evaluate(X_train, newsgroup_train.target, verbose=False)\n",
    "print(\"Training Accuracy: {:.4f}\".format(accuracy))\n",
    "loss, accuracy = model.evaluate(X_test, newsgroup_test.target, verbose=False)\n",
    "print(\"Testing Accuracy:  {:.4f}\".format(accuracy))"
   ]
  },
  {
   "cell_type": "code",
   "execution_count": 233,
   "metadata": {},
   "outputs": [
    {
     "data": {
      "image/png": "[encoded data removed]",
      "text/plain": [
       "<Figure size 432x288 with 1 Axes>"
      ]
     },
     "metadata": {
      "needs_background": "light"
     },
     "output_type": "display_data"
    },
    {
     "data": {
      "image/png": "[encoded data removed]",
      "text/plain": [
       "<Figure size 432x288 with 1 Axes>"
      ]
     },
     "metadata": {
      "needs_background": "light"
     },
     "output_type": "display_data"
    }
   ],
   "source": [
    "# Plot training & validation accuracy values\n",
    "plt.plot(history.history['accuracy'])\n",
    "plt.plot(history.history['val_accuracy'])\n",
    "plt.title('Model accuracy')\n",
    "plt.ylabel('Accuracy')\n",
    "plt.xlabel('Epoch')\n",
    "plt.legend(['Train', 'Test'], loc='upper left')\n",
    "plt.show()\n",
    "\n",
    "# Plot training & validation loss values\n",
    "plt.plot(history.history['loss'])\n",
    "plt.plot(history.history['val_loss'])\n",
    "plt.title('Model loss')\n",
    "plt.ylabel('Loss')\n",
    "plt.xlabel('Epoch')\n",
    "plt.legend(['Train', 'Test'], loc='upper left')\n",
    "plt.show()"
   ]
  },
  {
   "cell_type": "markdown",
   "metadata": {},
   "source": [
    "## Another Word Embedding Model\n",
    "\n",
    "See https://qiita.com/takeshikondo/items/419bebc4f9e6c78d5ea9\n"
   ]
  },
  {
   "cell_type": "code",
   "execution_count": 302,
   "metadata": {},
   "outputs": [
    {
     "name": "stdout",
     "output_type": "stream",
     "text": [
      "Model: \"sequential_41\"\n",
      "_________________________________________________________________\n",
      "Layer (type)                 Output Shape              Param #   \n",
      "=================================================================\n",
      "embedding_40 (Embedding)     (None, 1000, 50)          1795900   \n",
      "_________________________________________________________________\n",
      "conv1d_28 (Conv1D)           (None, 996, 128)          32128     \n",
      "_________________________________________________________________\n",
      "max_pooling1d_27 (MaxPooling (None, 199, 128)          0         \n",
      "_________________________________________________________________\n",
      "conv1d_29 (Conv1D)           (None, 195, 128)          82048     \n",
      "_________________________________________________________________\n",
      "max_pooling1d_28 (MaxPooling (None, 39, 128)           0         \n",
      "_________________________________________________________________\n",
      "conv1d_30 (Conv1D)           (None, 35, 128)           82048     \n",
      "_________________________________________________________________\n",
      "max_pooling1d_29 (MaxPooling (None, 1, 128)            0         \n",
      "_________________________________________________________________\n",
      "flatten_22 (Flatten)         (None, 128)               0         \n",
      "_________________________________________________________________\n",
      "dense_69 (Dense)             (None, 128)               16512     \n",
      "_________________________________________________________________\n",
      "dense_70 (Dense)             (None, 6)                 774       \n",
      "=================================================================\n",
      "Total params: 2,009,410\n",
      "Trainable params: 213,510\n",
      "Non-trainable params: 1,795,900\n",
      "_________________________________________________________________\n"
     ]
    }
   ],
   "source": [
    "model = Sequential()\n",
    "\n",
    "model.add(layers.InputLayer(input_shape=(maxlen,), dtype='int32'))\n",
    "model.add(layers.Embedding(input_dim=vocab_size, output_dim=embedding_dim, \n",
    "                           weights=[embedding_matrix], \n",
    "                           input_length=maxlen, \n",
    "                           trainable=False))\n",
    "model.add(layers.Conv1D(128, 5, activation='relu'))\n",
    "model.add(layers.MaxPooling1D(5))\n",
    "model.add(layers.Conv1D(128, 5, activation='relu'))\n",
    "model.add(layers.MaxPooling1D(5))\n",
    "model.add(layers.Conv1D(128, 5, activation='relu'))\n",
    "model.add(layers.MaxPooling1D(35))  # global max pooling\n",
    "\n",
    "model.add(layers.Flatten())\n",
    "model.add(layers.Dense(128, activation='relu'))\n",
    "model.add(layers.Dense(6, activation='softmax'))\n",
    "\n",
    "model.compile(optimizer='adam',\n",
    "              loss='sparse_categorical_crossentropy',\n",
    "              metrics=['accuracy'])\n",
    "\n",
    "model.summary()\n"
   ]
  },
  {
   "cell_type": "code",
   "execution_count": 303,
   "metadata": {},
   "outputs": [
    {
     "name": "stdout",
     "output_type": "stream",
     "text": [
      "Train on 3443 samples, validate on 2291 samples\n",
      "Epoch 1/10\n",
      "3443/3443 [==============================] - 17s 5ms/sample - loss: 1.4081 - accuracy: 0.4243 - val_loss: 1.0654 - val_accuracy: 0.5378\n",
      "Epoch 2/10\n",
      "3443/3443 [==============================] - 16s 5ms/sample - loss: 0.8551 - accuracy: 0.6306 - val_loss: 0.9257 - val_accuracy: 0.6242\n",
      "Epoch 3/10\n",
      "3443/3443 [==============================] - 16s 5ms/sample - loss: 0.7286 - accuracy: 0.6759 - val_loss: 0.9142 - val_accuracy: 0.6281\n",
      "Epoch 4/10\n",
      "3443/3443 [==============================] - 16s 5ms/sample - loss: 0.6470 - accuracy: 0.7241 - val_loss: 0.9157 - val_accuracy: 0.6342\n",
      "Epoch 5/10\n",
      "3443/3443 [==============================] - 16s 5ms/sample - loss: 0.5790 - accuracy: 0.7488 - val_loss: 0.8716 - val_accuracy: 0.6704\n",
      "Epoch 6/10\n",
      "3443/3443 [==============================] - 16s 5ms/sample - loss: 0.4772 - accuracy: 0.8132 - val_loss: 0.8620 - val_accuracy: 0.6709\n",
      "Epoch 7/10\n",
      "3443/3443 [==============================] - 16s 5ms/sample - loss: 0.4224 - accuracy: 0.8330 - val_loss: 0.9106 - val_accuracy: 0.6652\n",
      "Epoch 8/10\n",
      "3443/3443 [==============================] - 16s 5ms/sample - loss: 0.3554 - accuracy: 0.8670 - val_loss: 0.8616 - val_accuracy: 0.6962\n",
      "Epoch 9/10\n",
      "3443/3443 [==============================] - 16s 5ms/sample - loss: 0.2762 - accuracy: 0.8963 - val_loss: 0.9979 - val_accuracy: 0.6792\n",
      "Epoch 10/10\n",
      "3443/3443 [==============================] - 16s 5ms/sample - loss: 0.2352 - accuracy: 0.9184 - val_loss: 0.9476 - val_accuracy: 0.6945\n",
      "Training Accuracy: 0.9445\n",
      "Testing Accuracy:  0.6945\n"
     ]
    }
   ],
   "source": [
    "history = model.fit(X_train, newsgroup_train.target,\n",
    "                    epochs=10,\n",
    "                    verbose=True,\n",
    "                    validation_data=(X_test, newsgroup_test.target),\n",
    "                    batch_size=128)\n",
    "loss, accuracy = model.evaluate(X_train, newsgroup_train.target, verbose=False)\n",
    "print(\"Training Accuracy: {:.4f}\".format(accuracy))\n",
    "loss, accuracy = model.evaluate(X_test, newsgroup_test.target, verbose=False)\n",
    "print(\"Testing Accuracy:  {:.4f}\".format(accuracy))"
   ]
  },
  {
   "cell_type": "code",
   "execution_count": 304,
   "metadata": {},
   "outputs": [
    {
     "data": {
      "image/png": "[encoded data removed]",
      "text/plain": [
       "<Figure size 432x288 with 1 Axes>"
      ]
     },
     "metadata": {
      "needs_background": "light"
     },
     "output_type": "display_data"
    },
    {
     "data": {
      "image/png": "[encoded data removed]",
      "text/plain": [
       "<Figure size 432x288 with 1 Axes>"
      ]
     },
     "metadata": {
      "needs_background": "light"
     },
     "output_type": "display_data"
    }
   ],
   "source": [
    "# Plot training & validation accuracy values\n",
    "plt.plot(history.history['accuracy'])\n",
    "plt.plot(history.history['val_accuracy'])\n",
    "plt.title('Model accuracy')\n",
    "plt.ylabel('Accuracy')\n",
    "plt.xlabel('Epoch')\n",
    "plt.legend(['Train', 'Test'], loc='upper left')\n",
    "plt.show()\n",
    "\n",
    "# Plot training & validation loss values\n",
    "plt.plot(history.history['loss'])\n",
    "plt.plot(history.history['val_loss'])\n",
    "plt.title('Model loss')\n",
    "plt.ylabel('Loss')\n",
    "plt.xlabel('Epoch')\n",
    "plt.legend(['Train', 'Test'], loc='upper left')\n",
    "plt.show()"
   ]
  },
  {
   "cell_type": "markdown",
   "metadata": {},
   "source": [
    "### Another WE model\n",
    "\n",
    "See https://towardsdatascience.com/cnn-sentiment-analysis-1d16b7c5a0e7"
   ]
  },
  {
   "cell_type": "code",
   "execution_count": 82,
   "metadata": {},
   "outputs": [
    {
     "name": "stdout",
     "output_type": "stream",
     "text": [
      "Model: \"sequential_9\"\n",
      "_________________________________________________________________\n",
      "Layer (type)                 Output Shape              Param #   \n",
      "=================================================================\n",
      "embedding_9 (Embedding)      (None, 2000, 100)         3591800   \n",
      "_________________________________________________________________\n",
      "conv1d_22 (Conv1D)           (None, 1997, 128)         51328     \n",
      "_________________________________________________________________\n",
      "global_max_pooling1d_3 (Glob (None, 128)               0         \n",
      "_________________________________________________________________\n",
      "dense_18 (Dense)             (None, 10)                1290      \n",
      "_________________________________________________________________\n",
      "dropout_12 (Dropout)         (None, 10)                0         \n",
      "_________________________________________________________________\n",
      "dense_19 (Dense)             (None, 6)                 66        \n",
      "=================================================================\n",
      "Total params: 3,644,484\n",
      "Trainable params: 3,644,484\n",
      "Non-trainable params: 0\n",
      "_________________________________________________________________\n"
     ]
    }
   ],
   "source": [
    "model = Sequential()\n",
    "\n",
    "model.add(layers.Embedding(input_dim=vocab_size, output_dim=embedding_dim, \n",
    "                           weights=[embedding_matrix], \n",
    "                           input_length=maxlen, \n",
    "                           trainable=True))\n",
    "\n",
    "#model.add(layers.Conv1D(128, 2, activation='relu'))\n",
    "#model.add(layers.Conv1D(128, 3, activation='relu'))\n",
    "model.add(layers.Conv1D(128, 4, activation='relu'))\n",
    "#model.add(layers.Conv1D(128, 5, activation='relu'))\n",
    "#model.add(layers.Conv1D(128, 6, activation='relu'))\n",
    "\n",
    "#model.add(layers.MaxPooling1D())\n",
    "#model.add(layers.MaxPooling1D())\n",
    "#model.add(layers.MaxPooling1D())\n",
    "#model.add(layers.MaxPooling1D())\n",
    "#model.add(layers.MaxPooling1D())\n",
    "\n",
    "model.add(layers.GlobalMaxPool1D())\n",
    "model.add(layers.Dense(10, activation='relu'))\n",
    "model.add(layers.Dropout(0.3))\n",
    "model.add(layers.Dense(6, activation='softmax'))\n",
    "\n",
    "model.compile(optimizer='adam',\n",
    "              loss='sparse_categorical_crossentropy',\n",
    "              metrics=['accuracy'])\n",
    "\n",
    "model.summary()"
   ]
  },
  {
   "cell_type": "code",
   "execution_count": 83,
   "metadata": {},
   "outputs": [
    {
     "name": "stdout",
     "output_type": "stream",
     "text": [
      "Train on 3443 samples, validate on 2291 samples\n",
      "Epoch 1/150\n",
      "3443/3443 [==============================] - 51s 15ms/sample - loss: 1.3834 - accuracy: 0.4447 - val_loss: 1.0352 - val_accuracy: 0.6172\n",
      "Epoch 2/150\n",
      "3443/3443 [==============================] - 50s 15ms/sample - loss: 0.9006 - accuracy: 0.6550 - val_loss: 0.7260 - val_accuracy: 0.7259\n",
      "Epoch 3/150\n",
      "3443/3443 [==============================] - 50s 14ms/sample - loss: 0.6419 - accuracy: 0.7482 - val_loss: 0.6842 - val_accuracy: 0.7412\n",
      "Epoch 4/150\n",
      "3443/3443 [==============================] - 50s 14ms/sample - loss: 0.4980 - accuracy: 0.8034 - val_loss: 0.6986 - val_accuracy: 0.7442\n",
      "Epoch 5/150\n",
      "3443/3443 [==============================] - 50s 14ms/sample - loss: 0.4308 - accuracy: 0.8301 - val_loss: 0.7002 - val_accuracy: 0.7564\n",
      "Epoch 6/150\n",
      "3443/3443 [==============================] - 50s 14ms/sample - loss: 0.3763 - accuracy: 0.8443 - val_loss: 0.7082 - val_accuracy: 0.7656\n",
      "Epoch 7/150\n",
      "3443/3443 [==============================] - 50s 14ms/sample - loss: 0.3413 - accuracy: 0.8507 - val_loss: 0.7708 - val_accuracy: 0.7639\n",
      "Epoch 8/150\n",
      "3443/3443 [==============================] - 50s 14ms/sample - loss: 0.3395 - accuracy: 0.8394 - val_loss: 0.7873 - val_accuracy: 0.7674\n",
      "Epoch 9/150\n",
      "3443/3443 [==============================] - 49s 14ms/sample - loss: 0.3392 - accuracy: 0.8385 - val_loss: 0.8232 - val_accuracy: 0.7577\n",
      "Epoch 10/150\n",
      "3443/3443 [==============================] - 50s 14ms/sample - loss: 0.3012 - accuracy: 0.8609 - val_loss: 0.8445 - val_accuracy: 0.7704\n",
      "Epoch 11/150\n",
      "3443/3443 [==============================] - 50s 15ms/sample - loss: 0.2932 - accuracy: 0.8652 - val_loss: 1.0157 - val_accuracy: 0.7438\n",
      "Epoch 12/150\n",
      "3443/3443 [==============================] - 50s 14ms/sample - loss: 0.2897 - accuracy: 0.8678 - val_loss: 1.0177 - val_accuracy: 0.7604\n",
      "Epoch 13/150\n",
      "3443/3443 [==============================] - 50s 14ms/sample - loss: 0.3072 - accuracy: 0.8644 - val_loss: 1.0216 - val_accuracy: 0.7652\n",
      "Epoch 14/150\n",
      "3443/3443 [==============================] - 49s 14ms/sample - loss: 0.2997 - accuracy: 0.8702 - val_loss: 1.0524 - val_accuracy: 0.7656\n",
      "Epoch 15/150\n",
      "3443/3443 [==============================] - 49s 14ms/sample - loss: 0.3031 - accuracy: 0.8591 - val_loss: 1.0106 - val_accuracy: 0.7674\n",
      "Epoch 16/150\n",
      "3443/3443 [==============================] - 49s 14ms/sample - loss: 0.2770 - accuracy: 0.8769 - val_loss: 1.0877 - val_accuracy: 0.7682\n",
      "Epoch 17/150\n",
      "3443/3443 [==============================] - 49s 14ms/sample - loss: 0.2912 - accuracy: 0.8687 - val_loss: 1.0700 - val_accuracy: 0.7678\n",
      "Epoch 18/150\n",
      "3443/3443 [==============================] - 50s 14ms/sample - loss: 0.2973 - accuracy: 0.8716 - val_loss: 1.2452 - val_accuracy: 0.7647\n",
      "Epoch 19/150\n",
      "3443/3443 [==============================] - 49s 14ms/sample - loss: 0.2698 - accuracy: 0.8818 - val_loss: 1.2649 - val_accuracy: 0.7543\n",
      "Epoch 20/150\n",
      "3443/3443 [==============================] - 49s 14ms/sample - loss: 0.2689 - accuracy: 0.8891 - val_loss: 1.4468 - val_accuracy: 0.7503\n",
      "Epoch 21/150\n",
      "3443/3443 [==============================] - 49s 14ms/sample - loss: 0.2514 - accuracy: 0.8937 - val_loss: 1.1598 - val_accuracy: 0.7791\n",
      "Epoch 22/150\n",
      "3443/3443 [==============================] - 48s 14ms/sample - loss: 0.2428 - accuracy: 0.8850 - val_loss: 1.3286 - val_accuracy: 0.7748\n",
      "Epoch 23/150\n",
      "3443/3443 [==============================] - 49s 14ms/sample - loss: 0.2359 - accuracy: 0.9076 - val_loss: 1.3380 - val_accuracy: 0.7800\n",
      "Epoch 24/150\n",
      "3443/3443 [==============================] - 50s 14ms/sample - loss: 0.2384 - accuracy: 0.9111 - val_loss: 1.4781 - val_accuracy: 0.7678\n",
      "Epoch 25/150\n",
      "3443/3443 [==============================] - 50s 15ms/sample - loss: 0.2272 - accuracy: 0.9129 - val_loss: 1.4706 - val_accuracy: 0.7770\n",
      "Epoch 26/150\n",
      "3443/3443 [==============================] - 49s 14ms/sample - loss: 0.2341 - accuracy: 0.9108 - val_loss: 1.2731 - val_accuracy: 0.7765\n",
      "Epoch 27/150\n",
      "3443/3443 [==============================] - 50s 14ms/sample - loss: 0.2256 - accuracy: 0.9129 - val_loss: 1.6618 - val_accuracy: 0.7756\n",
      "Epoch 28/150\n",
      "3443/3443 [==============================] - 50s 15ms/sample - loss: 0.2248 - accuracy: 0.9140 - val_loss: 1.4281 - val_accuracy: 0.7787\n",
      "Epoch 29/150\n",
      "3443/3443 [==============================] - 50s 14ms/sample - loss: 0.2323 - accuracy: 0.9103 - val_loss: 1.7213 - val_accuracy: 0.7717\n",
      "Epoch 30/150\n",
      "3443/3443 [==============================] - 50s 14ms/sample - loss: 0.2144 - accuracy: 0.9190 - val_loss: 1.6281 - val_accuracy: 0.7783\n",
      "Epoch 31/150\n",
      "3443/3443 [==============================] - 50s 14ms/sample - loss: 0.2084 - accuracy: 0.9213 - val_loss: 1.6770 - val_accuracy: 0.7809\n",
      "Epoch 32/150\n",
      "3443/3443 [==============================] - 49s 14ms/sample - loss: 0.2322 - accuracy: 0.9129 - val_loss: 1.6415 - val_accuracy: 0.7835\n",
      "Epoch 33/150\n",
      "3443/3443 [==============================] - 50s 14ms/sample - loss: 0.2212 - accuracy: 0.9140 - val_loss: 1.9372 - val_accuracy: 0.7660\n",
      "Epoch 34/150\n",
      "3443/3443 [==============================] - 49s 14ms/sample - loss: 0.2287 - accuracy: 0.9158 - val_loss: 1.6702 - val_accuracy: 0.7765\n",
      "Epoch 35/150\n",
      "3443/3443 [==============================] - 49s 14ms/sample - loss: 0.2157 - accuracy: 0.9181 - val_loss: 1.9778 - val_accuracy: 0.7761\n",
      "Epoch 36/150\n",
      "3443/3443 [==============================] - 49s 14ms/sample - loss: 0.2114 - accuracy: 0.9204 - val_loss: 2.0820 - val_accuracy: 0.7621\n",
      "Epoch 37/150\n",
      "3443/3443 [==============================] - 49s 14ms/sample - loss: 0.2127 - accuracy: 0.9195 - val_loss: 1.9569 - val_accuracy: 0.7726\n",
      "Epoch 38/150\n",
      "3443/3443 [==============================] - 49s 14ms/sample - loss: 0.2067 - accuracy: 0.9195 - val_loss: 2.1211 - val_accuracy: 0.7687\n",
      "Epoch 39/150\n",
      "3443/3443 [==============================] - 49s 14ms/sample - loss: 0.2100 - accuracy: 0.9187 - val_loss: 1.9362 - val_accuracy: 0.7778\n",
      "Epoch 40/150\n",
      "3443/3443 [==============================] - 49s 14ms/sample - loss: 0.2345 - accuracy: 0.9103 - val_loss: 2.3704 - val_accuracy: 0.7652\n",
      "Epoch 41/150\n",
      "3443/3443 [==============================] - 49s 14ms/sample - loss: 0.2234 - accuracy: 0.9184 - val_loss: 1.8522 - val_accuracy: 0.7848\n",
      "Epoch 42/150\n",
      "3443/3443 [==============================] - 49s 14ms/sample - loss: 0.2138 - accuracy: 0.9248 - val_loss: 2.3042 - val_accuracy: 0.7560\n",
      "Epoch 43/150\n",
      "3443/3443 [==============================] - 49s 14ms/sample - loss: 0.2215 - accuracy: 0.9164 - val_loss: 1.8417 - val_accuracy: 0.7778\n",
      "Epoch 44/150\n",
      "3443/3443 [==============================] - 49s 14ms/sample - loss: 0.2150 - accuracy: 0.9190 - val_loss: 1.8765 - val_accuracy: 0.7848\n",
      "Epoch 45/150\n",
      "3443/3443 [==============================] - 49s 14ms/sample - loss: 0.2086 - accuracy: 0.9233 - val_loss: 1.8911 - val_accuracy: 0.7818\n",
      "Epoch 46/150\n",
      "3443/3443 [==============================] - 49s 14ms/sample - loss: 0.1993 - accuracy: 0.9274 - val_loss: 1.9305 - val_accuracy: 0.7844\n",
      "Epoch 47/150\n",
      "3443/3443 [==============================] - 49s 14ms/sample - loss: 0.2180 - accuracy: 0.9172 - val_loss: 1.9468 - val_accuracy: 0.7765\n",
      "Epoch 48/150\n",
      "3443/3443 [==============================] - 49s 14ms/sample - loss: 0.1895 - accuracy: 0.9288 - val_loss: 2.0217 - val_accuracy: 0.7870\n",
      "Epoch 49/150\n",
      "3443/3443 [==============================] - 49s 14ms/sample - loss: 0.2142 - accuracy: 0.9187 - val_loss: 1.9494 - val_accuracy: 0.7687\n",
      "Epoch 50/150\n",
      "3443/3443 [==============================] - 49s 14ms/sample - loss: 0.2063 - accuracy: 0.9233 - val_loss: 2.1296 - val_accuracy: 0.7848\n",
      "Epoch 51/150\n",
      "3443/3443 [==============================] - 49s 14ms/sample - loss: 0.1766 - accuracy: 0.9320 - val_loss: 2.1921 - val_accuracy: 0.7822\n",
      "Epoch 52/150\n",
      "3443/3443 [==============================] - 49s 14ms/sample - loss: 0.1642 - accuracy: 0.9306 - val_loss: 2.4748 - val_accuracy: 0.7826\n",
      "Epoch 53/150\n",
      "3443/3443 [==============================] - 50s 14ms/sample - loss: 0.1641 - accuracy: 0.9315 - val_loss: 2.5373 - val_accuracy: 0.7835\n",
      "Epoch 54/150\n",
      "3443/3443 [==============================] - 49s 14ms/sample - loss: 0.1602 - accuracy: 0.9320 - val_loss: 2.6823 - val_accuracy: 0.7852\n",
      "Epoch 55/150\n",
      "3443/3443 [==============================] - 49s 14ms/sample - loss: 0.1719 - accuracy: 0.9349 - val_loss: 2.4626 - val_accuracy: 0.7804\n",
      "Epoch 56/150\n",
      "3443/3443 [==============================] - 50s 14ms/sample - loss: 0.1523 - accuracy: 0.9364 - val_loss: 2.6440 - val_accuracy: 0.7730\n",
      "Epoch 57/150\n",
      "3443/3443 [==============================] - 49s 14ms/sample - loss: 0.1652 - accuracy: 0.9256 - val_loss: 2.6789 - val_accuracy: 0.7800\n",
      "Epoch 58/150\n",
      "3443/3443 [==============================] - 49s 14ms/sample - loss: 0.1443 - accuracy: 0.9323 - val_loss: 2.5239 - val_accuracy: 0.7844\n",
      "Epoch 59/150\n",
      "3443/3443 [==============================] - 49s 14ms/sample - loss: 0.1480 - accuracy: 0.9344 - val_loss: 2.8613 - val_accuracy: 0.7809\n",
      "Epoch 60/150\n",
      "3443/3443 [==============================] - 49s 14ms/sample - loss: 0.1555 - accuracy: 0.9329 - val_loss: 2.9545 - val_accuracy: 0.7839\n",
      "Epoch 61/150\n",
      "3443/3443 [==============================] - 49s 14ms/sample - loss: 0.1747 - accuracy: 0.9256 - val_loss: 3.0594 - val_accuracy: 0.7756\n",
      "Epoch 62/150\n",
      "3443/3443 [==============================] - 50s 14ms/sample - loss: 0.1651 - accuracy: 0.9283 - val_loss: 2.6443 - val_accuracy: 0.7726\n",
      "Epoch 63/150\n",
      "3443/3443 [==============================] - 49s 14ms/sample - loss: 0.1413 - accuracy: 0.9361 - val_loss: 3.1205 - val_accuracy: 0.7787\n",
      "Epoch 64/150\n",
      "3443/3443 [==============================] - 49s 14ms/sample - loss: 0.1567 - accuracy: 0.9294 - val_loss: 3.1798 - val_accuracy: 0.7756\n",
      "Epoch 65/150\n",
      "3443/3443 [==============================] - 49s 14ms/sample - loss: 0.1570 - accuracy: 0.9309 - val_loss: 2.9465 - val_accuracy: 0.7892\n",
      "Epoch 66/150\n",
      "3443/3443 [==============================] - 49s 14ms/sample - loss: 0.1511 - accuracy: 0.9265 - val_loss: 3.4987 - val_accuracy: 0.7708\n",
      "Epoch 67/150\n",
      "3443/3443 [==============================] - 49s 14ms/sample - loss: 0.1540 - accuracy: 0.9341 - val_loss: 3.3117 - val_accuracy: 0.7783\n",
      "Epoch 68/150\n",
      "3443/3443 [==============================] - 49s 14ms/sample - loss: 0.1607 - accuracy: 0.9251 - val_loss: 3.3214 - val_accuracy: 0.7735\n",
      "Epoch 69/150\n",
      "3443/3443 [==============================] - 49s 14ms/sample - loss: 0.1315 - accuracy: 0.9402 - val_loss: 3.4201 - val_accuracy: 0.7809\n",
      "Epoch 70/150\n",
      "3443/3443 [==============================] - 49s 14ms/sample - loss: 0.1490 - accuracy: 0.9303 - val_loss: 3.0786 - val_accuracy: 0.7900\n",
      "Epoch 71/150\n",
      "3443/3443 [==============================] - 49s 14ms/sample - loss: 0.1493 - accuracy: 0.9309 - val_loss: 2.9610 - val_accuracy: 0.7804\n",
      "Epoch 72/150\n",
      "3443/3443 [==============================] - 49s 14ms/sample - loss: 0.1541 - accuracy: 0.9309 - val_loss: 3.8852 - val_accuracy: 0.7669\n",
      "Epoch 73/150\n",
      "3443/3443 [==============================] - 49s 14ms/sample - loss: 0.1510 - accuracy: 0.9358 - val_loss: 3.4160 - val_accuracy: 0.7787\n",
      "Epoch 74/150\n",
      "3443/3443 [==============================] - 49s 14ms/sample - loss: 0.1455 - accuracy: 0.9364 - val_loss: 3.9579 - val_accuracy: 0.7708\n",
      "Epoch 75/150\n",
      "3443/3443 [==============================] - 49s 14ms/sample - loss: 0.1574 - accuracy: 0.9306 - val_loss: 3.2856 - val_accuracy: 0.7791\n",
      "Epoch 76/150\n",
      "3443/3443 [==============================] - 49s 14ms/sample - loss: 0.1587 - accuracy: 0.9294 - val_loss: 3.3235 - val_accuracy: 0.7778\n",
      "Epoch 77/150\n",
      "3443/3443 [==============================] - 49s 14ms/sample - loss: 0.1449 - accuracy: 0.9329 - val_loss: 3.7195 - val_accuracy: 0.7791\n",
      "Epoch 78/150\n",
      "3443/3443 [==============================] - 49s 14ms/sample - loss: 0.1528 - accuracy: 0.9338 - val_loss: 3.8275 - val_accuracy: 0.7665\n",
      "Epoch 79/150\n",
      "3443/3443 [==============================] - 49s 14ms/sample - loss: 0.1376 - accuracy: 0.9387 - val_loss: 3.9915 - val_accuracy: 0.7700\n",
      "Epoch 80/150\n",
      "3443/3443 [==============================] - 49s 14ms/sample - loss: 0.1670 - accuracy: 0.9320 - val_loss: 3.5222 - val_accuracy: 0.7791\n",
      "Epoch 81/150\n",
      "3443/3443 [==============================] - 49s 14ms/sample - loss: 0.1521 - accuracy: 0.9312 - val_loss: 4.5890 - val_accuracy: 0.7433\n",
      "Epoch 82/150\n",
      "3443/3443 [==============================] - 49s 14ms/sample - loss: 0.1470 - accuracy: 0.9364 - val_loss: 3.8492 - val_accuracy: 0.7787\n",
      "Epoch 83/150\n",
      "3443/3443 [==============================] - 49s 14ms/sample - loss: 0.1569 - accuracy: 0.9349 - val_loss: 3.3873 - val_accuracy: 0.7835\n",
      "Epoch 84/150\n",
      "3443/3443 [==============================] - 49s 14ms/sample - loss: 0.1435 - accuracy: 0.9355 - val_loss: 4.1951 - val_accuracy: 0.7604\n",
      "Epoch 85/150\n",
      "3443/3443 [==============================] - 49s 14ms/sample - loss: 0.1545 - accuracy: 0.9358 - val_loss: 3.5806 - val_accuracy: 0.7804\n",
      "Epoch 86/150\n",
      "3443/3443 [==============================] - 49s 14ms/sample - loss: 0.1398 - accuracy: 0.9425 - val_loss: 3.8403 - val_accuracy: 0.7748\n",
      "Epoch 87/150\n",
      "3443/3443 [==============================] - 49s 14ms/sample - loss: 0.1551 - accuracy: 0.9335 - val_loss: 3.2725 - val_accuracy: 0.7822\n",
      "Epoch 88/150\n",
      "3443/3443 [==============================] - 49s 14ms/sample - loss: 0.1615 - accuracy: 0.9294 - val_loss: 3.6024 - val_accuracy: 0.7822\n",
      "Epoch 89/150\n",
      "3443/3443 [==============================] - 49s 14ms/sample - loss: 0.1526 - accuracy: 0.9341 - val_loss: 3.6449 - val_accuracy: 0.7791\n",
      "Epoch 90/150\n",
      "3443/3443 [==============================] - 49s 14ms/sample - loss: 0.1445 - accuracy: 0.9396 - val_loss: 3.9943 - val_accuracy: 0.7787\n",
      "Epoch 91/150\n",
      "3443/3443 [==============================] - 49s 14ms/sample - loss: 0.1282 - accuracy: 0.9437 - val_loss: 3.9156 - val_accuracy: 0.7778\n",
      "Epoch 92/150\n",
      "3443/3443 [==============================] - 49s 14ms/sample - loss: 0.1662 - accuracy: 0.9288 - val_loss: 4.2416 - val_accuracy: 0.7656\n",
      "Epoch 93/150\n",
      "3443/3443 [==============================] - 49s 14ms/sample - loss: 0.1591 - accuracy: 0.9294 - val_loss: 3.9529 - val_accuracy: 0.7739\n",
      "Epoch 94/150\n",
      "3443/3443 [==============================] - 49s 14ms/sample - loss: 0.1432 - accuracy: 0.9352 - val_loss: 3.7699 - val_accuracy: 0.7674\n",
      "Epoch 95/150\n",
      "3443/3443 [==============================] - 49s 14ms/sample - loss: 0.1440 - accuracy: 0.9352 - val_loss: 4.3314 - val_accuracy: 0.7538\n",
      "Epoch 96/150\n",
      "3443/3443 [==============================] - 49s 14ms/sample - loss: 0.1391 - accuracy: 0.9370 - val_loss: 3.9169 - val_accuracy: 0.7643\n",
      "Epoch 97/150\n",
      "3443/3443 [==============================] - 49s 14ms/sample - loss: 0.1636 - accuracy: 0.9355 - val_loss: 3.5309 - val_accuracy: 0.7809\n",
      "Epoch 98/150\n",
      "3443/3443 [==============================] - 49s 14ms/sample - loss: 0.1490 - accuracy: 0.9358 - val_loss: 3.7551 - val_accuracy: 0.7717\n",
      "Epoch 99/150\n",
      "3443/3443 [==============================] - 49s 14ms/sample - loss: 0.1407 - accuracy: 0.9410 - val_loss: 5.0083 - val_accuracy: 0.7564\n",
      "Epoch 100/150\n",
      "3443/3443 [==============================] - 49s 14ms/sample - loss: 0.1480 - accuracy: 0.9387 - val_loss: 4.2884 - val_accuracy: 0.7669\n",
      "Epoch 101/150\n",
      "3443/3443 [==============================] - 50s 15ms/sample - loss: 0.1472 - accuracy: 0.9332 - val_loss: 4.5322 - val_accuracy: 0.7691\n",
      "Epoch 102/150\n",
      "3443/3443 [==============================] - 49s 14ms/sample - loss: 0.1507 - accuracy: 0.9335 - val_loss: 4.4649 - val_accuracy: 0.7700\n",
      "Epoch 103/150\n",
      "3443/3443 [==============================] - 49s 14ms/sample - loss: 0.1520 - accuracy: 0.9329 - val_loss: 5.1226 - val_accuracy: 0.7726\n",
      "Epoch 104/150\n",
      "3443/3443 [==============================] - 49s 14ms/sample - loss: 0.1576 - accuracy: 0.9294 - val_loss: 5.1544 - val_accuracy: 0.7634\n",
      "Epoch 105/150\n",
      "3443/3443 [==============================] - 49s 14ms/sample - loss: 0.1314 - accuracy: 0.9442 - val_loss: 5.4866 - val_accuracy: 0.7678\n",
      "Epoch 106/150\n",
      "3443/3443 [==============================] - 49s 14ms/sample - loss: 0.1605 - accuracy: 0.9268 - val_loss: 5.4301 - val_accuracy: 0.7700\n",
      "Epoch 107/150\n",
      "3443/3443 [==============================] - 49s 14ms/sample - loss: 0.1511 - accuracy: 0.9332 - val_loss: 6.0329 - val_accuracy: 0.7660\n",
      "Epoch 108/150\n",
      "3443/3443 [==============================] - 49s 14ms/sample - loss: 0.1422 - accuracy: 0.9341 - val_loss: 5.4818 - val_accuracy: 0.7726\n",
      "Epoch 109/150\n"
     ]
    },
    {
     "name": "stdout",
     "output_type": "stream",
     "text": [
      "3443/3443 [==============================] - 49s 14ms/sample - loss: 0.1435 - accuracy: 0.9355 - val_loss: 5.8074 - val_accuracy: 0.7525\n",
      "Epoch 110/150\n",
      "3443/3443 [==============================] - 49s 14ms/sample - loss: 0.1471 - accuracy: 0.9390 - val_loss: 5.6275 - val_accuracy: 0.7599\n",
      "Epoch 111/150\n",
      "3443/3443 [==============================] - 49s 14ms/sample - loss: 0.1443 - accuracy: 0.9364 - val_loss: 5.3960 - val_accuracy: 0.7643\n",
      "Epoch 112/150\n",
      "3443/3443 [==============================] - 49s 14ms/sample - loss: 0.1486 - accuracy: 0.9347 - val_loss: 5.7158 - val_accuracy: 0.7556\n",
      "Epoch 113/150\n",
      "3443/3443 [==============================] - 50s 15ms/sample - loss: 0.1373 - accuracy: 0.9422 - val_loss: 5.4206 - val_accuracy: 0.7621\n",
      "Epoch 114/150\n",
      "3443/3443 [==============================] - 49s 14ms/sample - loss: 0.1523 - accuracy: 0.9320 - val_loss: 5.6690 - val_accuracy: 0.7647\n",
      "Epoch 115/150\n",
      "3443/3443 [==============================] - 49s 14ms/sample - loss: 0.1391 - accuracy: 0.9344 - val_loss: 5.4203 - val_accuracy: 0.7652\n",
      "Epoch 116/150\n",
      "3443/3443 [==============================] - 49s 14ms/sample - loss: 0.1493 - accuracy: 0.9332 - val_loss: 5.4124 - val_accuracy: 0.7617\n",
      "Epoch 117/150\n",
      "3443/3443 [==============================] - 49s 14ms/sample - loss: 0.1569 - accuracy: 0.9297 - val_loss: 5.1167 - val_accuracy: 0.7708\n",
      "Epoch 118/150\n",
      "3443/3443 [==============================] - 49s 14ms/sample - loss: 0.1542 - accuracy: 0.9286 - val_loss: 6.0926 - val_accuracy: 0.7612\n",
      "Epoch 119/150\n",
      "3443/3443 [==============================] - 49s 14ms/sample - loss: 0.1465 - accuracy: 0.9323 - val_loss: 6.6528 - val_accuracy: 0.7420\n",
      "Epoch 120/150\n",
      "3443/3443 [==============================] - 50s 14ms/sample - loss: 0.1442 - accuracy: 0.9361 - val_loss: 5.6775 - val_accuracy: 0.7687\n",
      "Epoch 121/150\n",
      "3443/3443 [==============================] - 49s 14ms/sample - loss: 0.1619 - accuracy: 0.9315 - val_loss: 6.0858 - val_accuracy: 0.7647\n",
      "Epoch 122/150\n",
      "3443/3443 [==============================] - 49s 14ms/sample - loss: 0.1498 - accuracy: 0.9347 - val_loss: 6.8435 - val_accuracy: 0.7460\n",
      "Epoch 123/150\n",
      "3443/3443 [==============================] - 50s 14ms/sample - loss: 0.1565 - accuracy: 0.9329 - val_loss: 6.5095 - val_accuracy: 0.7551\n",
      "Epoch 124/150\n",
      "3443/3443 [==============================] - 49s 14ms/sample - loss: 0.1500 - accuracy: 0.9309 - val_loss: 6.5131 - val_accuracy: 0.7516\n",
      "Epoch 125/150\n",
      "3443/3443 [==============================] - 49s 14ms/sample - loss: 0.1504 - accuracy: 0.9335 - val_loss: 7.1089 - val_accuracy: 0.7346\n",
      "Epoch 126/150\n",
      "3443/3443 [==============================] - 50s 14ms/sample - loss: 0.1476 - accuracy: 0.9320 - val_loss: 6.7401 - val_accuracy: 0.7529\n",
      "Epoch 127/150\n",
      "3443/3443 [==============================] - 49s 14ms/sample - loss: 0.1525 - accuracy: 0.9323 - val_loss: 6.8493 - val_accuracy: 0.7569\n",
      "Epoch 128/150\n",
      "3443/3443 [==============================] - 49s 14ms/sample - loss: 0.1374 - accuracy: 0.9410 - val_loss: 7.5843 - val_accuracy: 0.7499\n",
      "Epoch 129/150\n",
      "3443/3443 [==============================] - 49s 14ms/sample - loss: 0.1574 - accuracy: 0.9283 - val_loss: 7.9115 - val_accuracy: 0.7525\n",
      "Epoch 130/150\n",
      "3443/3443 [==============================] - 49s 14ms/sample - loss: 0.1583 - accuracy: 0.9306 - val_loss: 6.9572 - val_accuracy: 0.7560\n",
      "Epoch 131/150\n",
      "3443/3443 [==============================] - 49s 14ms/sample - loss: 0.1405 - accuracy: 0.9352 - val_loss: 7.0904 - val_accuracy: 0.7634\n",
      "Epoch 132/150\n",
      "3443/3443 [==============================] - 49s 14ms/sample - loss: 0.1323 - accuracy: 0.9402 - val_loss: 7.6072 - val_accuracy: 0.7512\n",
      "Epoch 133/150\n",
      "3443/3443 [==============================] - 49s 14ms/sample - loss: 0.1401 - accuracy: 0.9355 - val_loss: 7.8570 - val_accuracy: 0.7447\n",
      "Epoch 134/150\n",
      "3443/3443 [==============================] - 49s 14ms/sample - loss: 0.1414 - accuracy: 0.9378 - val_loss: 7.0927 - val_accuracy: 0.7569\n",
      "Epoch 135/150\n",
      "3443/3443 [==============================] - 49s 14ms/sample - loss: 0.1491 - accuracy: 0.9349 - val_loss: 7.6405 - val_accuracy: 0.7569\n",
      "Epoch 136/150\n",
      "3443/3443 [==============================] - 49s 14ms/sample - loss: 0.1457 - accuracy: 0.9378 - val_loss: 7.8919 - val_accuracy: 0.7521\n",
      "Epoch 137/150\n",
      "3443/3443 [==============================] - 49s 14ms/sample - loss: 0.1634 - accuracy: 0.9251 - val_loss: 7.6609 - val_accuracy: 0.7560\n",
      "Epoch 138/150\n",
      "3443/3443 [==============================] - 49s 14ms/sample - loss: 0.1450 - accuracy: 0.9370 - val_loss: 7.9503 - val_accuracy: 0.7525\n",
      "Epoch 139/150\n",
      "3443/3443 [==============================] - 49s 14ms/sample - loss: 0.1483 - accuracy: 0.9323 - val_loss: 7.6047 - val_accuracy: 0.7503\n",
      "Epoch 140/150\n",
      "3443/3443 [==============================] - 49s 14ms/sample - loss: 0.1349 - accuracy: 0.9393 - val_loss: 7.7687 - val_accuracy: 0.7547\n",
      "Epoch 141/150\n",
      "3443/3443 [==============================] - 49s 14ms/sample - loss: 0.1461 - accuracy: 0.9352 - val_loss: 7.5881 - val_accuracy: 0.7560\n",
      "Epoch 142/150\n",
      "3443/3443 [==============================] - 49s 14ms/sample - loss: 0.1431 - accuracy: 0.9367 - val_loss: 7.4404 - val_accuracy: 0.7538\n",
      "Epoch 143/150\n",
      "3443/3443 [==============================] - 49s 14ms/sample - loss: 0.1475 - accuracy: 0.9326 - val_loss: 8.8156 - val_accuracy: 0.7433\n",
      "Epoch 144/150\n",
      "3443/3443 [==============================] - 49s 14ms/sample - loss: 0.1509 - accuracy: 0.9286 - val_loss: 8.7309 - val_accuracy: 0.7433\n",
      "Epoch 145/150\n",
      "3443/3443 [==============================] - 49s 14ms/sample - loss: 0.1309 - accuracy: 0.9396 - val_loss: 8.2660 - val_accuracy: 0.7508\n",
      "Epoch 146/150\n",
      "3443/3443 [==============================] - 49s 14ms/sample - loss: 0.1627 - accuracy: 0.9309 - val_loss: 7.8825 - val_accuracy: 0.7529\n",
      "Epoch 147/150\n",
      "3443/3443 [==============================] - 49s 14ms/sample - loss: 0.1372 - accuracy: 0.9367 - val_loss: 8.1027 - val_accuracy: 0.7429\n",
      "Epoch 148/150\n",
      "3443/3443 [==============================] - 49s 14ms/sample - loss: 0.1439 - accuracy: 0.9364 - val_loss: 7.5495 - val_accuracy: 0.7490\n",
      "Epoch 150/150\n",
      "3443/3443 [==============================] - 49s 14ms/sample - loss: 0.1422 - accuracy: 0.9341 - val_loss: 9.2412 - val_accuracy: 0.7420\n",
      "Training Accuracy: 0.9834\n",
      "Testing Accuracy:  0.7420\n"
     ]
    }
   ],
   "source": [
    "history = model.fit(X_train, newsgroup_train.target,\n",
    "                    epochs=150,\n",
    "                    verbose=True,\n",
    "                    validation_data=(X_test, newsgroup_test.target),\n",
    "                    batch_size=10)\n",
    "loss, accuracy = model.evaluate(X_train, newsgroup_train.target, verbose=False)\n",
    "print(\"Training Accuracy: {:.4f}\".format(accuracy))\n",
    "loss, accuracy = model.evaluate(X_test, newsgroup_test.target, verbose=False)\n",
    "print(\"Testing Accuracy:  {:.4f}\".format(accuracy))"
   ]
  },
  {
   "cell_type": "code",
   "execution_count": 84,
   "metadata": {},
   "outputs": [
    {
     "data": {
      "image/png": "[encoded data removed]",
      "text/plain": [
       "<Figure size 432x288 with 1 Axes>"
      ]
     },
     "metadata": {
      "needs_background": "light"
     },
     "output_type": "display_data"
    },
    {
     "data": {
      "image/png": "[encoded data removed]",
      "text/plain": [
       "<Figure size 432x288 with 1 Axes>"
      ]
     },
     "metadata": {
      "needs_background": "light"
     },
     "output_type": "display_data"
    }
   ],
   "source": [
    "# Plot training & validation accuracy values\n",
    "plt.plot(history.history['accuracy'])\n",
    "plt.plot(history.history['val_accuracy'])\n",
    "plt.title('Model accuracy')\n",
    "plt.ylabel('Accuracy')\n",
    "plt.xlabel('Epoch')\n",
    "plt.legend(['Train', 'Test'], loc='upper left')\n",
    "plt.show()\n",
    "\n",
    "# Plot training & validation loss values\n",
    "plt.plot(history.history['loss'])\n",
    "plt.plot(history.history['val_loss'])\n",
    "plt.title('Model loss')\n",
    "plt.ylabel('Loss')\n",
    "plt.xlabel('Epoch')\n",
    "plt.legend(['Train', 'Test'], loc='upper left')\n",
    "plt.show()"
   ]
  },
  {
   "cell_type": "markdown",
   "metadata": {},
   "source": [
    "#### Same model w/ slight adjustments"
   ]
  },
  {
   "cell_type": "code",
   "execution_count": 15,
   "metadata": {},
   "outputs": [
    {
     "name": "stdout",
     "output_type": "stream",
     "text": [
      "Model: \"sequential\"\n",
      "_________________________________________________________________\n",
      "Layer (type)                 Output Shape              Param #   \n",
      "=================================================================\n",
      "embedding (Embedding)        (None, 2000, 100)         3591800   \n",
      "_________________________________________________________________\n",
      "conv1d (Conv1D)              (None, 1999, 128)         25728     \n",
      "_________________________________________________________________\n",
      "conv1d_1 (Conv1D)            (None, 1997, 128)         49280     \n",
      "_________________________________________________________________\n",
      "conv1d_2 (Conv1D)            (None, 1994, 128)         65664     \n",
      "_________________________________________________________________\n",
      "conv1d_3 (Conv1D)            (None, 1990, 128)         82048     \n",
      "_________________________________________________________________\n",
      "conv1d_4 (Conv1D)            (None, 1985, 128)         98432     \n",
      "_________________________________________________________________\n",
      "max_pooling1d (MaxPooling1D) (None, 992, 128)          0         \n",
      "_________________________________________________________________\n",
      "max_pooling1d_1 (MaxPooling1 (None, 496, 128)          0         \n",
      "_________________________________________________________________\n",
      "max_pooling1d_2 (MaxPooling1 (None, 248, 128)          0         \n",
      "_________________________________________________________________\n",
      "max_pooling1d_3 (MaxPooling1 (None, 124, 128)          0         \n",
      "_________________________________________________________________\n",
      "max_pooling1d_4 (MaxPooling1 (None, 62, 128)           0         \n",
      "_________________________________________________________________\n",
      "global_max_pooling1d (Global (None, 128)               0         \n",
      "_________________________________________________________________\n",
      "dense (Dense)                (None, 10)                1290      \n",
      "_________________________________________________________________\n",
      "dropout (Dropout)            (None, 10)                0         \n",
      "_________________________________________________________________\n",
      "dense_1 (Dense)              (None, 6)                 66        \n",
      "=================================================================\n",
      "Total params: 3,914,308\n",
      "Trainable params: 3,914,308\n",
      "Non-trainable params: 0\n",
      "_________________________________________________________________\n"
     ]
    }
   ],
   "source": [
    "model = Sequential()\n",
    "\n",
    "model.add(layers.Embedding(input_dim=vocab_size, output_dim=embedding_dim, \n",
    "                           weights=[embedding_matrix], \n",
    "                           input_length=maxlen, \n",
    "                           trainable=True))\n",
    "\n",
    "model.add(layers.Conv1D(128, 2, activation='relu'))\n",
    "model.add(layers.Conv1D(128, 3, activation='relu'))\n",
    "model.add(layers.Conv1D(128, 4, activation='relu'))\n",
    "model.add(layers.Conv1D(128, 5, activation='relu'))\n",
    "model.add(layers.Conv1D(128, 6, activation='relu'))\n",
    "\n",
    "model.add(layers.MaxPooling1D())\n",
    "model.add(layers.MaxPooling1D())\n",
    "model.add(layers.MaxPooling1D())\n",
    "model.add(layers.MaxPooling1D())\n",
    "model.add(layers.MaxPooling1D())\n",
    "\n",
    "model.add(layers.GlobalMaxPool1D())\n",
    "model.add(layers.Dense(10, activation='relu'))\n",
    "model.add(layers.Dropout(0.3))\n",
    "model.add(layers.Dense(6, activation='softmax'))\n",
    "\n",
    "model.compile(optimizer='adam',\n",
    "              loss='sparse_categorical_crossentropy',\n",
    "              metrics=['accuracy'])\n",
    "\n",
    "model.summary()"
   ]
  },
  {
   "cell_type": "code",
   "execution_count": 16,
   "metadata": {},
   "outputs": [
    {
     "name": "stdout",
     "output_type": "stream",
     "text": [
      "Train on 3443 samples, validate on 2291 samples\n",
      "Epoch 1/150\n",
      "3443/3443 [==============================] - 232s 67ms/sample - loss: 1.7914 - accuracy: 0.1693 - val_loss: 1.7899 - val_accuracy: 0.1737\n",
      "Epoch 2/150\n",
      "3443/3443 [==============================] - 225s 65ms/sample - loss: 1.7899 - accuracy: 0.1661 - val_loss: 1.7892 - val_accuracy: 0.1737\n",
      "Epoch 3/150\n",
      "3443/3443 [==============================] - 224s 65ms/sample - loss: 1.7894 - accuracy: 0.1626 - val_loss: 1.7890 - val_accuracy: 0.1737\n",
      "Epoch 4/150\n",
      "3443/3443 [==============================] - 222s 65ms/sample - loss: 1.7893 - accuracy: 0.1702 - val_loss: 1.7889 - val_accuracy: 0.1729\n",
      "Epoch 5/150\n",
      "3443/3443 [==============================] - 222s 65ms/sample - loss: 1.7893 - accuracy: 0.1696 - val_loss: 1.7889 - val_accuracy: 0.1737\n",
      "Epoch 6/150\n",
      "3443/3443 [==============================] - 222s 64ms/sample - loss: 1.7893 - accuracy: 0.1676 - val_loss: 1.7889 - val_accuracy: 0.1729\n",
      "Epoch 7/150\n",
      "3443/3443 [==============================] - 223s 65ms/sample - loss: 1.7893 - accuracy: 0.1589 - val_loss: 1.7889 - val_accuracy: 0.1737\n",
      "Epoch 8/150\n",
      "3443/3443 [==============================] - 222s 65ms/sample - loss: 1.7892 - accuracy: 0.1653 - val_loss: 1.7889 - val_accuracy: 0.1737\n",
      "Epoch 9/150\n",
      "3443/3443 [==============================] - 223s 65ms/sample - loss: 1.7892 - accuracy: 0.1693 - val_loss: 1.7889 - val_accuracy: 0.1737\n",
      "Epoch 10/150\n",
      "3443/3443 [==============================] - 223s 65ms/sample - loss: 1.7892 - accuracy: 0.1711 - val_loss: 1.7889 - val_accuracy: 0.1737\n",
      "Epoch 11/150\n",
      "3443/3443 [==============================] - 222s 65ms/sample - loss: 1.7892 - accuracy: 0.1667 - val_loss: 1.7889 - val_accuracy: 0.1737\n",
      "Epoch 12/150\n",
      "3443/3443 [==============================] - 222s 64ms/sample - loss: 1.7892 - accuracy: 0.1632 - val_loss: 1.7889 - val_accuracy: 0.1737\n",
      "Epoch 13/150\n",
      "3443/3443 [==============================] - 222s 65ms/sample - loss: 1.7893 - accuracy: 0.1719 - val_loss: 1.7889 - val_accuracy: 0.1737\n",
      "Epoch 14/150\n",
      "3443/3443 [==============================] - 223s 65ms/sample - loss: 1.7893 - accuracy: 0.1597 - val_loss: 1.7889 - val_accuracy: 0.1737\n",
      "Epoch 15/150\n",
      "3443/3443 [==============================] - 222s 65ms/sample - loss: 1.7892 - accuracy: 0.1661 - val_loss: 1.7889 - val_accuracy: 0.1737\n",
      "Epoch 16/150\n",
      "3443/3443 [==============================] - 223s 65ms/sample - loss: 1.7892 - accuracy: 0.1699 - val_loss: 1.7889 - val_accuracy: 0.1737\n",
      "Epoch 17/150\n",
      "3443/3443 [==============================] - 223s 65ms/sample - loss: 1.7892 - accuracy: 0.1687 - val_loss: 1.7889 - val_accuracy: 0.1737\n",
      "Epoch 18/150\n",
      "3443/3443 [==============================] - 223s 65ms/sample - loss: 1.7892 - accuracy: 0.1705 - val_loss: 1.7889 - val_accuracy: 0.1737\n",
      "Epoch 19/150\n",
      "3443/3443 [==============================] - 223s 65ms/sample - loss: 1.7893 - accuracy: 0.1685 - val_loss: 1.7889 - val_accuracy: 0.1737\n",
      "Epoch 20/150\n",
      "3443/3443 [==============================] - 223s 65ms/sample - loss: 1.7893 - accuracy: 0.1676 - val_loss: 1.7889 - val_accuracy: 0.1737\n",
      "Epoch 21/150\n",
      "3443/3443 [==============================] - 222s 65ms/sample - loss: 1.7893 - accuracy: 0.1679 - val_loss: 1.7889 - val_accuracy: 0.1737\n",
      "Epoch 22/150\n",
      "3443/3443 [==============================] - 223s 65ms/sample - loss: 1.7892 - accuracy: 0.1609 - val_loss: 1.7889 - val_accuracy: 0.1737\n",
      "Epoch 23/150\n",
      "3443/3443 [==============================] - 227s 66ms/sample - loss: 1.7892 - accuracy: 0.1670 - val_loss: 1.7889 - val_accuracy: 0.1737\n",
      "Epoch 24/150\n",
      "3443/3443 [==============================] - 225s 65ms/sample - loss: 1.7892 - accuracy: 0.1696 - val_loss: 1.7889 - val_accuracy: 0.1737\n",
      "Epoch 25/150\n",
      "3443/3443 [==============================] - 225s 65ms/sample - loss: 1.7892 - accuracy: 0.1696 - val_loss: 1.7889 - val_accuracy: 0.1724\n",
      "Epoch 26/150\n",
      "3443/3443 [==============================] - 226s 66ms/sample - loss: 1.7893 - accuracy: 0.1690 - val_loss: 1.7889 - val_accuracy: 0.1737\n",
      "Epoch 27/150\n",
      "3443/3443 [==============================] - 223s 65ms/sample - loss: 1.7892 - accuracy: 0.1536 - val_loss: 1.7889 - val_accuracy: 0.1737\n",
      "Epoch 28/150\n",
      "3443/3443 [==============================] - 223s 65ms/sample - loss: 1.7893 - accuracy: 0.1670 - val_loss: 1.7889 - val_accuracy: 0.1737\n",
      "Epoch 29/150\n",
      "3443/3443 [==============================] - 223s 65ms/sample - loss: 1.7892 - accuracy: 0.1702 - val_loss: 1.7889 - val_accuracy: 0.1737\n",
      "Epoch 30/150\n",
      "3443/3443 [==============================] - 224s 65ms/sample - loss: 1.7893 - accuracy: 0.1679 - val_loss: 1.7889 - val_accuracy: 0.1737\n",
      "Epoch 31/150\n",
      "3443/3443 [==============================] - 224s 65ms/sample - loss: 1.7893 - accuracy: 0.1629 - val_loss: 1.7889 - val_accuracy: 0.1737\n",
      "Epoch 32/150\n",
      "3443/3443 [==============================] - 224s 65ms/sample - loss: 1.7892 - accuracy: 0.1690 - val_loss: 1.7889 - val_accuracy: 0.1737\n",
      "Epoch 33/150\n",
      "3443/3443 [==============================] - 223s 65ms/sample - loss: 1.7892 - accuracy: 0.1696 - val_loss: 1.7889 - val_accuracy: 0.1737\n",
      "Epoch 34/150\n",
      "3443/3443 [==============================] - 223s 65ms/sample - loss: 1.7893 - accuracy: 0.1717 - val_loss: 1.7889 - val_accuracy: 0.1737\n",
      "Epoch 35/150\n",
      "3443/3443 [==============================] - 222s 64ms/sample - loss: 1.7892 - accuracy: 0.1673 - val_loss: 1.7889 - val_accuracy: 0.1729\n",
      "Epoch 36/150\n",
      "3443/3443 [==============================] - 223s 65ms/sample - loss: 1.7893 - accuracy: 0.1563 - val_loss: 1.7889 - val_accuracy: 0.1737\n",
      "Epoch 37/150\n",
      "3443/3443 [==============================] - 224s 65ms/sample - loss: 1.7893 - accuracy: 0.1711 - val_loss: 1.7889 - val_accuracy: 0.1737\n",
      "Epoch 38/150\n",
      "3443/3443 [==============================] - 223s 65ms/sample - loss: 1.7893 - accuracy: 0.1717 - val_loss: 1.7889 - val_accuracy: 0.1737\n",
      "Epoch 39/150\n",
      "3443/3443 [==============================] - 223s 65ms/sample - loss: 1.7893 - accuracy: 0.1542 - val_loss: 1.7889 - val_accuracy: 0.1737\n",
      "Epoch 40/150\n",
      "3443/3443 [==============================] - 223s 65ms/sample - loss: 1.7892 - accuracy: 0.1687 - val_loss: 1.7889 - val_accuracy: 0.1737\n",
      "Epoch 41/150\n",
      "3443/3443 [==============================] - 224s 65ms/sample - loss: 1.7893 - accuracy: 0.1632 - val_loss: 1.7889 - val_accuracy: 0.1737\n",
      "Epoch 42/150\n",
      "3443/3443 [==============================] - 224s 65ms/sample - loss: 1.7893 - accuracy: 0.1632 - val_loss: 1.7889 - val_accuracy: 0.1737\n",
      "Epoch 43/150\n",
      "3443/3443 [==============================] - 223s 65ms/sample - loss: 1.7893 - accuracy: 0.1740 - val_loss: 1.7889 - val_accuracy: 0.1737\n",
      "Epoch 44/150\n",
      "3443/3443 [==============================] - 223s 65ms/sample - loss: 1.7892 - accuracy: 0.1545 - val_loss: 1.7889 - val_accuracy: 0.1737\n",
      "Epoch 45/150\n",
      "3443/3443 [==============================] - 223s 65ms/sample - loss: 1.7893 - accuracy: 0.1719 - val_loss: 1.7889 - val_accuracy: 0.1737\n",
      "Epoch 46/150\n",
      "3443/3443 [==============================] - 225s 65ms/sample - loss: 1.7892 - accuracy: 0.1722 - val_loss: 1.7889 - val_accuracy: 0.1737\n",
      "Epoch 47/150\n",
      "3443/3443 [==============================] - 223s 65ms/sample - loss: 1.7892 - accuracy: 0.1687 - val_loss: 1.7889 - val_accuracy: 0.1737\n",
      "Epoch 48/150\n",
      "3443/3443 [==============================] - 223s 65ms/sample - loss: 1.7892 - accuracy: 0.1699 - val_loss: 1.7889 - val_accuracy: 0.1737\n",
      "Epoch 49/150\n",
      "3443/3443 [==============================] - 223s 65ms/sample - loss: 1.7892 - accuracy: 0.1647 - val_loss: 1.7889 - val_accuracy: 0.1737\n",
      "Epoch 50/150\n",
      "3443/3443 [==============================] - 224s 65ms/sample - loss: 1.7892 - accuracy: 0.1603 - val_loss: 1.7889 - val_accuracy: 0.1737\n",
      "Epoch 51/150\n",
      "3443/3443 [==============================] - 224s 65ms/sample - loss: 1.7892 - accuracy: 0.1740 - val_loss: 1.7889 - val_accuracy: 0.1737\n",
      "Epoch 52/150\n",
      "3443/3443 [==============================] - 224s 65ms/sample - loss: 1.7892 - accuracy: 0.1702 - val_loss: 1.7889 - val_accuracy: 0.1737\n",
      "Epoch 53/150\n",
      "3443/3443 [==============================] - 223s 65ms/sample - loss: 1.7892 - accuracy: 0.1740 - val_loss: 1.7889 - val_accuracy: 0.1737\n",
      "Epoch 54/150\n",
      "3443/3443 [==============================] - 224s 65ms/sample - loss: 1.7893 - accuracy: 0.1696 - val_loss: 1.7889 - val_accuracy: 0.1724\n"
     ]
    },
    {
     "name": "stdout",
     "output_type": "stream",
     "text": [
      "Epoch 55/150\n",
      "3443/3443 [==============================] - 223s 65ms/sample - loss: 1.7893 - accuracy: 0.1653 - val_loss: 1.7889 - val_accuracy: 0.1724\n",
      "Epoch 56/150\n",
      "3443/3443 [==============================] - 223s 65ms/sample - loss: 1.7892 - accuracy: 0.1612 - val_loss: 1.7889 - val_accuracy: 0.1724\n",
      "Epoch 57/150\n",
      "3443/3443 [==============================] - 223s 65ms/sample - loss: 1.7892 - accuracy: 0.1734 - val_loss: 1.7889 - val_accuracy: 0.1737\n",
      "Epoch 58/150\n",
      "3443/3443 [==============================] - 223s 65ms/sample - loss: 1.7892 - accuracy: 0.1650 - val_loss: 1.7889 - val_accuracy: 0.1729\n",
      "Epoch 59/150\n",
      "3443/3443 [==============================] - 224s 65ms/sample - loss: 1.7892 - accuracy: 0.1644 - val_loss: 1.7889 - val_accuracy: 0.1737\n",
      "Epoch 60/150\n",
      "3443/3443 [==============================] - 223s 65ms/sample - loss: 1.7892 - accuracy: 0.1592 - val_loss: 1.7889 - val_accuracy: 0.1737\n",
      "Epoch 61/150\n",
      "3443/3443 [==============================] - 223s 65ms/sample - loss: 1.7892 - accuracy: 0.1702 - val_loss: 1.7889 - val_accuracy: 0.1737\n",
      "Epoch 62/150\n",
      "3443/3443 [==============================] - 224s 65ms/sample - loss: 1.7893 - accuracy: 0.1621 - val_loss: 1.7889 - val_accuracy: 0.1737\n",
      "Epoch 63/150\n",
      "3443/3443 [==============================] - 224s 65ms/sample - loss: 1.7892 - accuracy: 0.1708 - val_loss: 1.7889 - val_accuracy: 0.1737\n",
      "Epoch 64/150\n",
      "3443/3443 [==============================] - 223s 65ms/sample - loss: 1.7893 - accuracy: 0.1632 - val_loss: 1.7889 - val_accuracy: 0.1737\n",
      "Epoch 65/150\n",
      "3443/3443 [==============================] - 225s 65ms/sample - loss: 1.7892 - accuracy: 0.1740 - val_loss: 1.7889 - val_accuracy: 0.1737\n",
      "Epoch 66/150\n",
      "3443/3443 [==============================] - 224s 65ms/sample - loss: 1.7892 - accuracy: 0.1717 - val_loss: 1.7889 - val_accuracy: 0.1737\n",
      "Epoch 67/150\n",
      "3443/3443 [==============================] - 224s 65ms/sample - loss: 1.7893 - accuracy: 0.1676 - val_loss: 1.7889 - val_accuracy: 0.1737\n",
      "Epoch 68/150\n",
      "3443/3443 [==============================] - 223s 65ms/sample - loss: 1.7893 - accuracy: 0.1658 - val_loss: 1.7889 - val_accuracy: 0.1737\n",
      "Epoch 69/150\n",
      "3443/3443 [==============================] - 223s 65ms/sample - loss: 1.7892 - accuracy: 0.1629 - val_loss: 1.7889 - val_accuracy: 0.1737\n",
      "Epoch 70/150\n",
      "3443/3443 [==============================] - 224s 65ms/sample - loss: 1.7892 - accuracy: 0.1740 - val_loss: 1.7889 - val_accuracy: 0.1737\n",
      "Epoch 71/150\n",
      "3443/3443 [==============================] - 224s 65ms/sample - loss: 1.7893 - accuracy: 0.1702 - val_loss: 1.7889 - val_accuracy: 0.1737\n",
      "Epoch 72/150\n",
      "3443/3443 [==============================] - 225s 65ms/sample - loss: 1.7892 - accuracy: 0.1696 - val_loss: 1.7889 - val_accuracy: 0.1737\n",
      "Epoch 73/150\n",
      "3443/3443 [==============================] - 223s 65ms/sample - loss: 1.7893 - accuracy: 0.1685 - val_loss: 1.7889 - val_accuracy: 0.1737\n",
      "Epoch 74/150\n",
      "3443/3443 [==============================] - 224s 65ms/sample - loss: 1.7892 - accuracy: 0.1711 - val_loss: 1.7889 - val_accuracy: 0.1737\n",
      "Epoch 75/150\n",
      "3443/3443 [==============================] - 224s 65ms/sample - loss: 1.7892 - accuracy: 0.1667 - val_loss: 1.7889 - val_accuracy: 0.1729\n",
      "Epoch 76/150\n",
      "3443/3443 [==============================] - 224s 65ms/sample - loss: 1.7892 - accuracy: 0.1635 - val_loss: 1.7889 - val_accuracy: 0.1737\n",
      "Epoch 77/150\n",
      "3443/3443 [==============================] - 225s 65ms/sample - loss: 1.7893 - accuracy: 0.1664 - val_loss: 1.7889 - val_accuracy: 0.1737\n",
      "Epoch 78/150\n",
      "3443/3443 [==============================] - 224s 65ms/sample - loss: 1.7893 - accuracy: 0.1632 - val_loss: 1.7889 - val_accuracy: 0.1737\n",
      "Epoch 79/150\n",
      "3443/3443 [==============================] - 224s 65ms/sample - loss: 1.7893 - accuracy: 0.1699 - val_loss: 1.7889 - val_accuracy: 0.1737\n",
      "Epoch 80/150\n",
      "3443/3443 [==============================] - 223s 65ms/sample - loss: 1.7893 - accuracy: 0.1740 - val_loss: 1.7889 - val_accuracy: 0.1737\n",
      "Epoch 81/150\n",
      "3443/3443 [==============================] - 223s 65ms/sample - loss: 1.7892 - accuracy: 0.1600 - val_loss: 1.7889 - val_accuracy: 0.1737\n",
      "Epoch 82/150\n",
      "3443/3443 [==============================] - 224s 65ms/sample - loss: 1.7893 - accuracy: 0.1722 - val_loss: 1.7889 - val_accuracy: 0.1737\n",
      "Epoch 83/150\n",
      "3443/3443 [==============================] - 223s 65ms/sample - loss: 1.7892 - accuracy: 0.1740 - val_loss: 1.7889 - val_accuracy: 0.1737\n",
      "Epoch 84/150\n",
      "3443/3443 [==============================] - 223s 65ms/sample - loss: 1.7892 - accuracy: 0.1670 - val_loss: 1.7889 - val_accuracy: 0.1737\n",
      "Epoch 85/150\n",
      "3443/3443 [==============================] - 227s 66ms/sample - loss: 1.7893 - accuracy: 0.1687 - val_loss: 1.7889 - val_accuracy: 0.1737\n",
      "Epoch 86/150\n",
      "3443/3443 [==============================] - 224s 65ms/sample - loss: 1.7893 - accuracy: 0.1685 - val_loss: 1.7889 - val_accuracy: 0.1737\n",
      "Epoch 87/150\n",
      "3443/3443 [==============================] - 223s 65ms/sample - loss: 1.7893 - accuracy: 0.1653 - val_loss: 1.7889 - val_accuracy: 0.1737\n",
      "Epoch 88/150\n",
      "3443/3443 [==============================] - 223s 65ms/sample - loss: 1.7893 - accuracy: 0.1699 - val_loss: 1.7889 - val_accuracy: 0.1737\n",
      "Epoch 89/150\n",
      "3443/3443 [==============================] - 222s 65ms/sample - loss: 1.7892 - accuracy: 0.1702 - val_loss: 1.7889 - val_accuracy: 0.1737\n",
      "Epoch 90/150\n",
      "3443/3443 [==============================] - 223s 65ms/sample - loss: 1.7893 - accuracy: 0.1740 - val_loss: 1.7889 - val_accuracy: 0.1737\n",
      "Epoch 91/150\n",
      "3443/3443 [==============================] - 223s 65ms/sample - loss: 1.7892 - accuracy: 0.1565 - val_loss: 1.7889 - val_accuracy: 0.1737\n",
      "Epoch 92/150\n",
      "3443/3443 [==============================] - 223s 65ms/sample - loss: 1.7893 - accuracy: 0.1685 - val_loss: 1.7889 - val_accuracy: 0.1737\n",
      "Epoch 93/150\n",
      "3443/3443 [==============================] - 223s 65ms/sample - loss: 1.7892 - accuracy: 0.1647 - val_loss: 1.7889 - val_accuracy: 0.1737\n",
      "Epoch 94/150\n",
      "3443/3443 [==============================] - 222s 64ms/sample - loss: 1.7892 - accuracy: 0.1612 - val_loss: 1.7889 - val_accuracy: 0.1737\n",
      "Epoch 95/150\n",
      "3443/3443 [==============================] - 223s 65ms/sample - loss: 1.7893 - accuracy: 0.1702 - val_loss: 1.7889 - val_accuracy: 0.1737\n",
      "Epoch 96/150\n",
      "3443/3443 [==============================] - 224s 65ms/sample - loss: 1.7893 - accuracy: 0.1717 - val_loss: 1.7889 - val_accuracy: 0.1729\n",
      "Epoch 97/150\n",
      "3443/3443 [==============================] - 224s 65ms/sample - loss: 1.7892 - accuracy: 0.1670 - val_loss: 1.7889 - val_accuracy: 0.1737\n",
      "Epoch 98/150\n",
      "3443/3443 [==============================] - 224s 65ms/sample - loss: 1.7893 - accuracy: 0.1621 - val_loss: 1.7889 - val_accuracy: 0.1737\n",
      "Epoch 99/150\n",
      "3443/3443 [==============================] - 224s 65ms/sample - loss: 1.7892 - accuracy: 0.1696 - val_loss: 1.7889 - val_accuracy: 0.1737\n",
      "Epoch 100/150\n",
      "3443/3443 [==============================] - 224s 65ms/sample - loss: 1.7893 - accuracy: 0.1603 - val_loss: 1.7889 - val_accuracy: 0.1737\n",
      "Epoch 101/150\n",
      "3443/3443 [==============================] - 223s 65ms/sample - loss: 1.7892 - accuracy: 0.1658 - val_loss: 1.7889 - val_accuracy: 0.1737\n",
      "Epoch 102/150\n",
      "3443/3443 [==============================] - 224s 65ms/sample - loss: 1.7892 - accuracy: 0.1699 - val_loss: 1.7889 - val_accuracy: 0.1737\n",
      "Epoch 103/150\n",
      "3443/3443 [==============================] - 224s 65ms/sample - loss: 1.7893 - accuracy: 0.1708 - val_loss: 1.7889 - val_accuracy: 0.1737\n",
      "Epoch 104/150\n",
      "3443/3443 [==============================] - 222s 64ms/sample - loss: 1.7892 - accuracy: 0.1638 - val_loss: 1.7889 - val_accuracy: 0.1737\n",
      "Epoch 105/150\n",
      "3443/3443 [==============================] - 225s 65ms/sample - loss: 1.7892 - accuracy: 0.1740 - val_loss: 1.7889 - val_accuracy: 0.1737\n",
      "Epoch 106/150\n",
      "3443/3443 [==============================] - 223s 65ms/sample - loss: 1.7893 - accuracy: 0.1711 - val_loss: 1.7889 - val_accuracy: 0.1737\n",
      "Epoch 107/150\n",
      "3443/3443 [==============================] - 223s 65ms/sample - loss: 1.7892 - accuracy: 0.1650 - val_loss: 1.7889 - val_accuracy: 0.1737\n",
      "Epoch 108/150\n",
      "3443/3443 [==============================] - 224s 65ms/sample - loss: 1.7892 - accuracy: 0.1685 - val_loss: 1.7889 - val_accuracy: 0.1737\n",
      "Epoch 109/150\n",
      "3443/3443 [==============================] - 223s 65ms/sample - loss: 1.7892 - accuracy: 0.1740 - val_loss: 1.7889 - val_accuracy: 0.1737\n",
      "Epoch 110/150\n",
      "3443/3443 [==============================] - 224s 65ms/sample - loss: 1.7892 - accuracy: 0.1647 - val_loss: 1.7889 - val_accuracy: 0.1729\n",
      "Epoch 111/150\n",
      "3443/3443 [==============================] - 224s 65ms/sample - loss: 1.7893 - accuracy: 0.1644 - val_loss: 1.7889 - val_accuracy: 0.1737\n",
      "Epoch 112/150\n",
      "3443/3443 [==============================] - 224s 65ms/sample - loss: 1.7893 - accuracy: 0.1664 - val_loss: 1.7889 - val_accuracy: 0.1724\n",
      "Epoch 113/150\n",
      "3443/3443 [==============================] - 223s 65ms/sample - loss: 1.7892 - accuracy: 0.1635 - val_loss: 1.7889 - val_accuracy: 0.1724\n",
      "Epoch 114/150\n",
      "3443/3443 [==============================] - 226s 66ms/sample - loss: 1.7893 - accuracy: 0.1685 - val_loss: 1.7889 - val_accuracy: 0.1737\n",
      "Epoch 115/150\n",
      "3443/3443 [==============================] - 223s 65ms/sample - loss: 1.7892 - accuracy: 0.1650 - val_loss: 1.7889 - val_accuracy: 0.1737\n",
      "Epoch 116/150\n",
      "3443/3443 [==============================] - 223s 65ms/sample - loss: 1.7892 - accuracy: 0.1629 - val_loss: 1.7889 - val_accuracy: 0.1737\n",
      "Epoch 117/150\n",
      "3443/3443 [==============================] - 224s 65ms/sample - loss: 1.7893 - accuracy: 0.1740 - val_loss: 1.7889 - val_accuracy: 0.1737\n",
      "Epoch 118/150\n",
      "3443/3443 [==============================] - 223s 65ms/sample - loss: 1.7892 - accuracy: 0.1667 - val_loss: 1.7889 - val_accuracy: 0.1737\n",
      "Epoch 119/150\n",
      "3443/3443 [==============================] - 223s 65ms/sample - loss: 1.7892 - accuracy: 0.1740 - val_loss: 1.7889 - val_accuracy: 0.1737\n",
      "Epoch 120/150\n",
      "3443/3443 [==============================] - 223s 65ms/sample - loss: 1.7892 - accuracy: 0.1740 - val_loss: 1.7889 - val_accuracy: 0.1737\n",
      "Epoch 121/150\n",
      "3443/3443 [==============================] - 222s 65ms/sample - loss: 1.7893 - accuracy: 0.1650 - val_loss: 1.7889 - val_accuracy: 0.1737\n",
      "Epoch 122/150\n",
      "3443/3443 [==============================] - 222s 64ms/sample - loss: 1.7893 - accuracy: 0.1612 - val_loss: 1.7889 - val_accuracy: 0.1737\n",
      "Epoch 123/150\n",
      "3443/3443 [==============================] - 224s 65ms/sample - loss: 1.7893 - accuracy: 0.1626 - val_loss: 1.7889 - val_accuracy: 0.1737\n",
      "Epoch 124/150\n",
      "3443/3443 [==============================] - 223s 65ms/sample - loss: 1.7892 - accuracy: 0.1705 - val_loss: 1.7889 - val_accuracy: 0.1737\n",
      "Epoch 125/150\n",
      "3443/3443 [==============================] - 224s 65ms/sample - loss: 1.7893 - accuracy: 0.1638 - val_loss: 1.7889 - val_accuracy: 0.1737\n",
      "Epoch 126/150\n",
      "3443/3443 [==============================] - 226s 65ms/sample - loss: 1.7892 - accuracy: 0.1635 - val_loss: 1.7889 - val_accuracy: 0.1737\n",
      "Epoch 127/150\n",
      "3443/3443 [==============================] - 224s 65ms/sample - loss: 1.7892 - accuracy: 0.1714 - val_loss: 1.7889 - val_accuracy: 0.1737\n",
      "Epoch 128/150\n",
      "3443/3443 [==============================] - 223s 65ms/sample - loss: 1.7892 - accuracy: 0.1719 - val_loss: 1.7889 - val_accuracy: 0.1737\n",
      "Epoch 129/150\n",
      "3443/3443 [==============================] - 223s 65ms/sample - loss: 1.7892 - accuracy: 0.1661 - val_loss: 1.7889 - val_accuracy: 0.1737\n",
      "Epoch 130/150\n",
      "3443/3443 [==============================] - 223s 65ms/sample - loss: 1.7892 - accuracy: 0.1708 - val_loss: 1.7889 - val_accuracy: 0.1737\n",
      "Epoch 131/150\n",
      "3443/3443 [==============================] - 224s 65ms/sample - loss: 1.7892 - accuracy: 0.1644 - val_loss: 1.7889 - val_accuracy: 0.1737\n",
      "Epoch 132/150\n",
      "3443/3443 [==============================] - 220s 64ms/sample - loss: 1.7892 - accuracy: 0.1682 - val_loss: 1.7889 - val_accuracy: 0.1737\n",
      "Epoch 133/150\n",
      "3443/3443 [==============================] - 219s 64ms/sample - loss: 1.7893 - accuracy: 0.1667 - val_loss: 1.7889 - val_accuracy: 0.1737\n",
      "Epoch 134/150\n",
      "3443/3443 [==============================] - 221s 64ms/sample - loss: 1.7893 - accuracy: 0.1699 - val_loss: 1.7889 - val_accuracy: 0.1737\n",
      "Epoch 135/150\n",
      "3443/3443 [==============================] - 220s 64ms/sample - loss: 1.7893 - accuracy: 0.1679 - val_loss: 1.7889 - val_accuracy: 0.1737\n",
      "Epoch 136/150\n",
      "3443/3443 [==============================] - 220s 64ms/sample - loss: 1.7892 - accuracy: 0.1740 - val_loss: 1.7889 - val_accuracy: 0.1737\n",
      "Epoch 137/150\n",
      "3443/3443 [==============================] - 220s 64ms/sample - loss: 1.7892 - accuracy: 0.1653 - val_loss: 1.7889 - val_accuracy: 0.1737\n",
      "Epoch 138/150\n",
      "3443/3443 [==============================] - 220s 64ms/sample - loss: 1.7892 - accuracy: 0.1685 - val_loss: 1.7889 - val_accuracy: 0.1737\n",
      "Epoch 139/150\n",
      "3443/3443 [==============================] - 220s 64ms/sample - loss: 1.7893 - accuracy: 0.1687 - val_loss: 1.7889 - val_accuracy: 0.1737\n",
      "Epoch 140/150\n",
      "3443/3443 [==============================] - 220s 64ms/sample - loss: 1.7893 - accuracy: 0.1638 - val_loss: 1.7889 - val_accuracy: 0.1737\n",
      "Epoch 141/150\n",
      "3443/3443 [==============================] - 220s 64ms/sample - loss: 1.7893 - accuracy: 0.1647 - val_loss: 1.7889 - val_accuracy: 0.1737\n",
      "Epoch 142/150\n",
      "3443/3443 [==============================] - 221s 64ms/sample - loss: 1.7892 - accuracy: 0.1740 - val_loss: 1.7889 - val_accuracy: 0.1737\n",
      "Epoch 143/150\n",
      "3443/3443 [==============================] - 222s 65ms/sample - loss: 1.7892 - accuracy: 0.1693 - val_loss: 1.7889 - val_accuracy: 0.1737\n",
      "Epoch 144/150\n",
      "3443/3443 [==============================] - 222s 65ms/sample - loss: 1.7892 - accuracy: 0.1664 - val_loss: 1.7889 - val_accuracy: 0.1737\n",
      "Epoch 145/150\n",
      "3443/3443 [==============================] - 223s 65ms/sample - loss: 1.7892 - accuracy: 0.1690 - val_loss: 1.7889 - val_accuracy: 0.1737\n",
      "Epoch 146/150\n",
      "3443/3443 [==============================] - 228s 66ms/sample - loss: 1.7892 - accuracy: 0.1626 - val_loss: 1.7889 - val_accuracy: 0.1737\n",
      "Epoch 147/150\n",
      "3443/3443 [==============================] - 223s 65ms/sample - loss: 1.7893 - accuracy: 0.1740 - val_loss: 1.7889 - val_accuracy: 0.1737\n",
      "Epoch 148/150\n",
      "3443/3443 [==============================] - 223s 65ms/sample - loss: 1.7892 - accuracy: 0.1740 - val_loss: 1.7889 - val_accuracy: 0.1737\n",
      "Epoch 149/150\n",
      "3443/3443 [==============================] - 223s 65ms/sample - loss: 1.7892 - accuracy: 0.1656 - val_loss: 1.7889 - val_accuracy: 0.1737\n",
      "Epoch 150/150\n",
      "3443/3443 [==============================] - 221s 64ms/sample - loss: 1.7893 - accuracy: 0.1679 - val_loss: 1.7889 - val_accuracy: 0.1737\n",
      "Training Accuracy: 0.1740\n",
      "Testing Accuracy:  0.1737\n"
     ]
    }
   ],
   "source": [
    "history = model.fit(X_train, newsgroup_train.target,\n",
    "                    epochs=150,\n",
    "                    verbose=True,\n",
    "                    validation_data=(X_test, newsgroup_test.target),\n",
    "                    batch_size=10)\n",
    "loss, accuracy = model.evaluate(X_train, newsgroup_train.target, verbose=False)\n",
    "print(\"Training Accuracy: {:.4f}\".format(accuracy))\n",
    "loss, accuracy = model.evaluate(X_test, newsgroup_test.target, verbose=False)\n",
    "print(\"Testing Accuracy:  {:.4f}\".format(accuracy))"
   ]
  },
  {
   "cell_type": "markdown",
   "metadata": {},
   "source": [
    "### Another model\n",
    "\n",
    "https://blog.keras.io/using-pre-trained-word-embeddings-in-a-keras-model.html\n"
   ]
  },
  {
   "cell_type": "code",
   "execution_count": 26,
   "metadata": {},
   "outputs": [
    {
     "name": "stdout",
     "output_type": "stream",
     "text": [
      "Model: \"sequential_4\"\n",
      "_________________________________________________________________\n",
      "Layer (type)                 Output Shape              Param #   \n",
      "=================================================================\n",
      "embedding_3 (Embedding)      (None, 2000, 100)         3591800   \n",
      "_________________________________________________________________\n",
      "conv1d_6 (Conv1D)            (None, 1996, 128)         64128     \n",
      "_________________________________________________________________\n",
      "max_pooling1d_4 (MaxPooling1 (None, 399, 128)          0         \n",
      "_________________________________________________________________\n",
      "conv1d_7 (Conv1D)            (None, 395, 128)          82048     \n",
      "_________________________________________________________________\n",
      "max_pooling1d_5 (MaxPooling1 (None, 79, 128)           0         \n",
      "_________________________________________________________________\n",
      "conv1d_8 (Conv1D)            (None, 75, 128)           82048     \n",
      "_________________________________________________________________\n",
      "global_max_pooling1d_2 (Glob (None, 128)               0         \n",
      "_________________________________________________________________\n",
      "flatten_3 (Flatten)          (None, 128)               0         \n",
      "_________________________________________________________________\n",
      "dense_6 (Dense)              (None, 128)               16512     \n",
      "_________________________________________________________________\n",
      "dense_7 (Dense)              (None, 6)                 774       \n",
      "=================================================================\n",
      "Total params: 3,837,310\n",
      "Trainable params: 3,837,310\n",
      "Non-trainable params: 0\n",
      "_________________________________________________________________\n"
     ]
    }
   ],
   "source": [
    "model = Sequential()\n",
    "\n",
    "#model.add(layers.Embedding(input_dim=vocab_size, output_dim=embedding_dim, \n",
    "#                           weights=[embedding_matrix], \n",
    "#                           input_length=maxlen, \n",
    "#                           trainable=False))\n",
    "\n",
    "## --> 71.5% accuracy w/ GloVe\n",
    "\n",
    "model.add(layers.Embedding(input_dim=vocab_size, output_dim=embedding_dim, \n",
    "                           input_length=maxlen))\n",
    "\n",
    "## --> 68.8% accuracy w/o GloVe\n",
    "\n",
    "\n",
    "model.add(layers.Conv1D(128, 5, activation='relu'))\n",
    "model.add(layers.MaxPooling1D(5))\n",
    "model.add(layers.Conv1D(128, 5, activation='relu'))\n",
    "model.add(layers.MaxPooling1D(5))\n",
    "model.add(layers.Conv1D(128, 5, activation='relu'))\n",
    "\n",
    "model.add(layers.GlobalMaxPool1D())\n",
    "\n",
    "model.add(layers.Flatten())\n",
    "\n",
    "model.add(layers.Dense(128, activation='relu'))\n",
    "#model.add(layers.Dropout(0.3))\n",
    "model.add(layers.Dense(6, activation='softmax'))\n",
    "\n",
    "model.compile(optimizer='adam',\n",
    "              loss='sparse_categorical_crossentropy',\n",
    "              metrics=['accuracy'])\n",
    "\n",
    "model.summary()\n"
   ]
  },
  {
   "cell_type": "code",
   "execution_count": 27,
   "metadata": {},
   "outputs": [
    {
     "name": "stdout",
     "output_type": "stream",
     "text": [
      "Train on 3443 samples, validate on 2291 samples\n",
      "Epoch 1/10\n",
      "3443/3443 [==============================] - 73s 21ms/sample - loss: 1.4748 - accuracy: 0.3352 - val_loss: 1.2522 - val_accuracy: 0.4321\n",
      "Epoch 2/10\n",
      "3443/3443 [==============================] - 73s 21ms/sample - loss: 0.8391 - accuracy: 0.6262 - val_loss: 0.9459 - val_accuracy: 0.6229\n",
      "Epoch 3/10\n",
      "3443/3443 [==============================] - 71s 21ms/sample - loss: 0.4011 - accuracy: 0.8440 - val_loss: 1.0490 - val_accuracy: 0.6652\n",
      "Epoch 4/10\n",
      "3443/3443 [==============================] - 69s 20ms/sample - loss: 0.2144 - accuracy: 0.9233 - val_loss: 1.3709 - val_accuracy: 0.6726\n",
      "Epoch 5/10\n",
      "3443/3443 [==============================] - 70s 20ms/sample - loss: 0.1162 - accuracy: 0.9582 - val_loss: 1.8273 - val_accuracy: 0.6517\n",
      "Epoch 6/10\n",
      "3443/3443 [==============================] - 70s 20ms/sample - loss: 0.0864 - accuracy: 0.9678 - val_loss: 2.0931 - val_accuracy: 0.6656\n",
      "Epoch 7/10\n",
      "3443/3443 [==============================] - 70s 20ms/sample - loss: 0.1092 - accuracy: 0.9640 - val_loss: 1.4877 - val_accuracy: 0.6997\n",
      "Epoch 8/10\n",
      "3443/3443 [==============================] - 70s 20ms/sample - loss: 0.0764 - accuracy: 0.9724 - val_loss: 1.9078 - val_accuracy: 0.6735\n",
      "Epoch 9/10\n",
      "3443/3443 [==============================] - 70s 20ms/sample - loss: 0.0606 - accuracy: 0.9762 - val_loss: 1.9802 - val_accuracy: 0.7097\n",
      "Epoch 10/10\n",
      "3443/3443 [==============================] - 71s 20ms/sample - loss: 0.0652 - accuracy: 0.9771 - val_loss: 2.0657 - val_accuracy: 0.6879\n"
     ]
    }
   ],
   "source": [
    "history = model.fit(X_train, newsgroup_train.target,\n",
    "                    epochs=10,\n",
    "                    verbose=True,\n",
    "                    validation_data=(X_test, newsgroup_test.target),\n",
    "                    batch_size=10)\n",
    "loss, accuracy = model.evaluate(X_train, newsgroup_train.target, verbose=False)\n",
    "print(\"Training Accuracy: {:.4f}\".format(accuracy))\n",
    "loss, accuracy = model.evaluate(X_test, newsgroup_test.target, verbose=False)\n",
    "print(\"Testing Accuracy:  {:.4f}\".format(accuracy))\n"
   ]
  },
  {
   "cell_type": "code",
   "execution_count": 28,
   "metadata": {},
   "outputs": [
    {
     "name": "stdout",
     "output_type": "stream",
     "text": [
      "Training Accuracy: 0.9750\n",
      "Testing Accuracy:  0.6879\n"
     ]
    }
   ],
   "source": []
  },
  {
   "cell_type": "code",
   "execution_count": 25,
   "metadata": {},
   "outputs": [
    {
     "data": {
      "image/png": "[encoded data removed]",
      "text/plain": [
       "<Figure size 432x288 with 1 Axes>"
      ]
     },
     "metadata": {
      "needs_background": "light"
     },
     "output_type": "display_data"
    },
    {
     "data": {
      "image/png": "[encoded data removed]",
      "text/plain": [
       "<Figure size 432x288 with 1 Axes>"
      ]
     },
     "metadata": {
      "needs_background": "light"
     },
     "output_type": "display_data"
    }
   ],
   "source": [
    "# Plot training & validation accuracy values\n",
    "plt.plot(history.history['accuracy'])\n",
    "plt.plot(history.history['val_accuracy'])\n",
    "plt.title('Model accuracy')\n",
    "plt.ylabel('Accuracy')\n",
    "plt.xlabel('Epoch')\n",
    "plt.legend(['Train', 'Test'], loc='upper left')\n",
    "plt.show()\n",
    "\n",
    "# Plot training & validation loss values\n",
    "plt.plot(history.history['loss'])\n",
    "plt.plot(history.history['val_loss'])\n",
    "plt.title('Model loss')\n",
    "plt.ylabel('Loss')\n",
    "plt.xlabel('Epoch')\n",
    "plt.legend(['Train', 'Test'], loc='upper left')\n",
    "plt.show()"
   ]
  },
  {
   "cell_type": "code",
   "execution_count": null,
   "metadata": {},
   "outputs": [],
   "source": []
  }
 ],
 "metadata": {
  "kernelspec": {
   "display_name": "Python 3",
   "language": "python",
   "name": "python3"
  },
  "language_info": {
   "codemirror_mode": {
    "name": "ipython",
    "version": 3
   },
   "file_extension": ".py",
   "mimetype": "text/x-python",
   "name": "python",
   "nbconvert_exporter": "python",
   "pygments_lexer": "ipython3",
   "version": "3.7.6"
  }
 },
 "nbformat": 4,
 "nbformat_minor": 4
}
